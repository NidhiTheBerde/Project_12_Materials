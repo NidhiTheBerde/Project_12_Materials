{
 "cells": [
  {
   "cell_type": "markdown",
   "metadata": {},
   "source": [
    "# Project 12: Explanatory Data Analysis Challenge (Olympic Games)"
   ]
  },
  {
   "cell_type": "markdown",
   "metadata": {},
   "source": [
    "## Data Import and Inspection"
   ]
  },
  {
   "cell_type": "markdown",
   "metadata": {},
   "source": [
    "Import the Datasets Summer (__summer.csv__), Winter (__winter.csv__) and dictionary (__dictionary.csv__) and Inspect! "
   ]
  },
  {
   "cell_type": "code",
   "execution_count": 2,
   "metadata": {},
   "outputs": [],
   "source": [
    "import pandas as pd"
   ]
  },
  {
   "cell_type": "code",
   "execution_count": 3,
   "metadata": {},
   "outputs": [],
   "source": [
    "summer = pd.read_csv(\"summer.csv\")\n",
    "winter = pd.read_csv(\"winter.csv\")\n",
    "dic = pd.read_csv(\"dictionary.csv\")"
   ]
  },
  {
   "cell_type": "code",
   "execution_count": 4,
   "metadata": {},
   "outputs": [
    {
     "data": {
      "text/html": [
       "<div>\n",
       "<style scoped>\n",
       "    .dataframe tbody tr th:only-of-type {\n",
       "        vertical-align: middle;\n",
       "    }\n",
       "\n",
       "    .dataframe tbody tr th {\n",
       "        vertical-align: top;\n",
       "    }\n",
       "\n",
       "    .dataframe thead th {\n",
       "        text-align: right;\n",
       "    }\n",
       "</style>\n",
       "<table border=\"1\" class=\"dataframe\">\n",
       "  <thead>\n",
       "    <tr style=\"text-align: right;\">\n",
       "      <th></th>\n",
       "      <th>Year</th>\n",
       "      <th>City</th>\n",
       "      <th>Sport</th>\n",
       "      <th>Discipline</th>\n",
       "      <th>Athlete</th>\n",
       "      <th>Country</th>\n",
       "      <th>Gender</th>\n",
       "      <th>Event</th>\n",
       "      <th>Medal</th>\n",
       "    </tr>\n",
       "  </thead>\n",
       "  <tbody>\n",
       "    <tr>\n",
       "      <th>0</th>\n",
       "      <td>1896</td>\n",
       "      <td>Athens</td>\n",
       "      <td>Aquatics</td>\n",
       "      <td>Swimming</td>\n",
       "      <td>HAJOS, Alfred</td>\n",
       "      <td>HUN</td>\n",
       "      <td>Men</td>\n",
       "      <td>100M Freestyle</td>\n",
       "      <td>Gold</td>\n",
       "    </tr>\n",
       "    <tr>\n",
       "      <th>1</th>\n",
       "      <td>1896</td>\n",
       "      <td>Athens</td>\n",
       "      <td>Aquatics</td>\n",
       "      <td>Swimming</td>\n",
       "      <td>HERSCHMANN, Otto</td>\n",
       "      <td>AUT</td>\n",
       "      <td>Men</td>\n",
       "      <td>100M Freestyle</td>\n",
       "      <td>Silver</td>\n",
       "    </tr>\n",
       "    <tr>\n",
       "      <th>2</th>\n",
       "      <td>1896</td>\n",
       "      <td>Athens</td>\n",
       "      <td>Aquatics</td>\n",
       "      <td>Swimming</td>\n",
       "      <td>DRIVAS, Dimitrios</td>\n",
       "      <td>GRE</td>\n",
       "      <td>Men</td>\n",
       "      <td>100M Freestyle For Sailors</td>\n",
       "      <td>Bronze</td>\n",
       "    </tr>\n",
       "    <tr>\n",
       "      <th>3</th>\n",
       "      <td>1896</td>\n",
       "      <td>Athens</td>\n",
       "      <td>Aquatics</td>\n",
       "      <td>Swimming</td>\n",
       "      <td>MALOKINIS, Ioannis</td>\n",
       "      <td>GRE</td>\n",
       "      <td>Men</td>\n",
       "      <td>100M Freestyle For Sailors</td>\n",
       "      <td>Gold</td>\n",
       "    </tr>\n",
       "    <tr>\n",
       "      <th>4</th>\n",
       "      <td>1896</td>\n",
       "      <td>Athens</td>\n",
       "      <td>Aquatics</td>\n",
       "      <td>Swimming</td>\n",
       "      <td>CHASAPIS, Spiridon</td>\n",
       "      <td>GRE</td>\n",
       "      <td>Men</td>\n",
       "      <td>100M Freestyle For Sailors</td>\n",
       "      <td>Silver</td>\n",
       "    </tr>\n",
       "    <tr>\n",
       "      <th>...</th>\n",
       "      <td>...</td>\n",
       "      <td>...</td>\n",
       "      <td>...</td>\n",
       "      <td>...</td>\n",
       "      <td>...</td>\n",
       "      <td>...</td>\n",
       "      <td>...</td>\n",
       "      <td>...</td>\n",
       "      <td>...</td>\n",
       "    </tr>\n",
       "    <tr>\n",
       "      <th>31160</th>\n",
       "      <td>2012</td>\n",
       "      <td>London</td>\n",
       "      <td>Wrestling</td>\n",
       "      <td>Wrestling Freestyle</td>\n",
       "      <td>JANIKOWSKI, Damian</td>\n",
       "      <td>POL</td>\n",
       "      <td>Men</td>\n",
       "      <td>Wg 84 KG</td>\n",
       "      <td>Bronze</td>\n",
       "    </tr>\n",
       "    <tr>\n",
       "      <th>31161</th>\n",
       "      <td>2012</td>\n",
       "      <td>London</td>\n",
       "      <td>Wrestling</td>\n",
       "      <td>Wrestling Freestyle</td>\n",
       "      <td>REZAEI, Ghasem Gholamreza</td>\n",
       "      <td>IRI</td>\n",
       "      <td>Men</td>\n",
       "      <td>Wg 96 KG</td>\n",
       "      <td>Gold</td>\n",
       "    </tr>\n",
       "    <tr>\n",
       "      <th>31162</th>\n",
       "      <td>2012</td>\n",
       "      <td>London</td>\n",
       "      <td>Wrestling</td>\n",
       "      <td>Wrestling Freestyle</td>\n",
       "      <td>TOTROV, Rustam</td>\n",
       "      <td>RUS</td>\n",
       "      <td>Men</td>\n",
       "      <td>Wg 96 KG</td>\n",
       "      <td>Silver</td>\n",
       "    </tr>\n",
       "    <tr>\n",
       "      <th>31163</th>\n",
       "      <td>2012</td>\n",
       "      <td>London</td>\n",
       "      <td>Wrestling</td>\n",
       "      <td>Wrestling Freestyle</td>\n",
       "      <td>ALEKSANYAN, Artur</td>\n",
       "      <td>ARM</td>\n",
       "      <td>Men</td>\n",
       "      <td>Wg 96 KG</td>\n",
       "      <td>Bronze</td>\n",
       "    </tr>\n",
       "    <tr>\n",
       "      <th>31164</th>\n",
       "      <td>2012</td>\n",
       "      <td>London</td>\n",
       "      <td>Wrestling</td>\n",
       "      <td>Wrestling Freestyle</td>\n",
       "      <td>LIDBERG, Jimmy</td>\n",
       "      <td>SWE</td>\n",
       "      <td>Men</td>\n",
       "      <td>Wg 96 KG</td>\n",
       "      <td>Bronze</td>\n",
       "    </tr>\n",
       "  </tbody>\n",
       "</table>\n",
       "<p>31165 rows × 9 columns</p>\n",
       "</div>"
      ],
      "text/plain": [
       "       Year    City      Sport           Discipline  \\\n",
       "0      1896  Athens   Aquatics             Swimming   \n",
       "1      1896  Athens   Aquatics             Swimming   \n",
       "2      1896  Athens   Aquatics             Swimming   \n",
       "3      1896  Athens   Aquatics             Swimming   \n",
       "4      1896  Athens   Aquatics             Swimming   \n",
       "...     ...     ...        ...                  ...   \n",
       "31160  2012  London  Wrestling  Wrestling Freestyle   \n",
       "31161  2012  London  Wrestling  Wrestling Freestyle   \n",
       "31162  2012  London  Wrestling  Wrestling Freestyle   \n",
       "31163  2012  London  Wrestling  Wrestling Freestyle   \n",
       "31164  2012  London  Wrestling  Wrestling Freestyle   \n",
       "\n",
       "                         Athlete Country Gender                       Event  \\\n",
       "0                  HAJOS, Alfred     HUN    Men              100M Freestyle   \n",
       "1               HERSCHMANN, Otto     AUT    Men              100M Freestyle   \n",
       "2              DRIVAS, Dimitrios     GRE    Men  100M Freestyle For Sailors   \n",
       "3             MALOKINIS, Ioannis     GRE    Men  100M Freestyle For Sailors   \n",
       "4             CHASAPIS, Spiridon     GRE    Men  100M Freestyle For Sailors   \n",
       "...                          ...     ...    ...                         ...   \n",
       "31160         JANIKOWSKI, Damian     POL    Men                    Wg 84 KG   \n",
       "31161  REZAEI, Ghasem Gholamreza     IRI    Men                    Wg 96 KG   \n",
       "31162             TOTROV, Rustam     RUS    Men                    Wg 96 KG   \n",
       "31163          ALEKSANYAN, Artur     ARM    Men                    Wg 96 KG   \n",
       "31164             LIDBERG, Jimmy     SWE    Men                    Wg 96 KG   \n",
       "\n",
       "        Medal  \n",
       "0        Gold  \n",
       "1      Silver  \n",
       "2      Bronze  \n",
       "3        Gold  \n",
       "4      Silver  \n",
       "...       ...  \n",
       "31160  Bronze  \n",
       "31161    Gold  \n",
       "31162  Silver  \n",
       "31163  Bronze  \n",
       "31164  Bronze  \n",
       "\n",
       "[31165 rows x 9 columns]"
      ]
     },
     "execution_count": 4,
     "metadata": {},
     "output_type": "execute_result"
    }
   ],
   "source": [
    "summer"
   ]
  },
  {
   "cell_type": "code",
   "execution_count": 5,
   "metadata": {},
   "outputs": [
    {
     "name": "stdout",
     "output_type": "stream",
     "text": [
      "<class 'pandas.core.frame.DataFrame'>\n",
      "RangeIndex: 31165 entries, 0 to 31164\n",
      "Data columns (total 9 columns):\n",
      " #   Column      Non-Null Count  Dtype \n",
      "---  ------      --------------  ----- \n",
      " 0   Year        31165 non-null  int64 \n",
      " 1   City        31165 non-null  object\n",
      " 2   Sport       31165 non-null  object\n",
      " 3   Discipline  31165 non-null  object\n",
      " 4   Athlete     31165 non-null  object\n",
      " 5   Country     31161 non-null  object\n",
      " 6   Gender      31165 non-null  object\n",
      " 7   Event       31165 non-null  object\n",
      " 8   Medal       31165 non-null  object\n",
      "dtypes: int64(1), object(8)\n",
      "memory usage: 2.1+ MB\n"
     ]
    }
   ],
   "source": [
    "summer.info()"
   ]
  },
  {
   "cell_type": "code",
   "execution_count": 6,
   "metadata": {},
   "outputs": [
    {
     "data": {
      "text/html": [
       "<div>\n",
       "<style scoped>\n",
       "    .dataframe tbody tr th:only-of-type {\n",
       "        vertical-align: middle;\n",
       "    }\n",
       "\n",
       "    .dataframe tbody tr th {\n",
       "        vertical-align: top;\n",
       "    }\n",
       "\n",
       "    .dataframe thead th {\n",
       "        text-align: right;\n",
       "    }\n",
       "</style>\n",
       "<table border=\"1\" class=\"dataframe\">\n",
       "  <thead>\n",
       "    <tr style=\"text-align: right;\">\n",
       "      <th></th>\n",
       "      <th>Year</th>\n",
       "      <th>City</th>\n",
       "      <th>Sport</th>\n",
       "      <th>Discipline</th>\n",
       "      <th>Athlete</th>\n",
       "      <th>Country</th>\n",
       "      <th>Gender</th>\n",
       "      <th>Event</th>\n",
       "      <th>Medal</th>\n",
       "    </tr>\n",
       "  </thead>\n",
       "  <tbody>\n",
       "    <tr>\n",
       "      <th>0</th>\n",
       "      <td>1924</td>\n",
       "      <td>Chamonix</td>\n",
       "      <td>Biathlon</td>\n",
       "      <td>Biathlon</td>\n",
       "      <td>BERTHET, G.</td>\n",
       "      <td>FRA</td>\n",
       "      <td>Men</td>\n",
       "      <td>Military Patrol</td>\n",
       "      <td>Bronze</td>\n",
       "    </tr>\n",
       "    <tr>\n",
       "      <th>1</th>\n",
       "      <td>1924</td>\n",
       "      <td>Chamonix</td>\n",
       "      <td>Biathlon</td>\n",
       "      <td>Biathlon</td>\n",
       "      <td>MANDRILLON, C.</td>\n",
       "      <td>FRA</td>\n",
       "      <td>Men</td>\n",
       "      <td>Military Patrol</td>\n",
       "      <td>Bronze</td>\n",
       "    </tr>\n",
       "    <tr>\n",
       "      <th>2</th>\n",
       "      <td>1924</td>\n",
       "      <td>Chamonix</td>\n",
       "      <td>Biathlon</td>\n",
       "      <td>Biathlon</td>\n",
       "      <td>MANDRILLON, Maurice</td>\n",
       "      <td>FRA</td>\n",
       "      <td>Men</td>\n",
       "      <td>Military Patrol</td>\n",
       "      <td>Bronze</td>\n",
       "    </tr>\n",
       "    <tr>\n",
       "      <th>3</th>\n",
       "      <td>1924</td>\n",
       "      <td>Chamonix</td>\n",
       "      <td>Biathlon</td>\n",
       "      <td>Biathlon</td>\n",
       "      <td>VANDELLE, André</td>\n",
       "      <td>FRA</td>\n",
       "      <td>Men</td>\n",
       "      <td>Military Patrol</td>\n",
       "      <td>Bronze</td>\n",
       "    </tr>\n",
       "    <tr>\n",
       "      <th>4</th>\n",
       "      <td>1924</td>\n",
       "      <td>Chamonix</td>\n",
       "      <td>Biathlon</td>\n",
       "      <td>Biathlon</td>\n",
       "      <td>AUFDENBLATTEN, Adolf</td>\n",
       "      <td>SUI</td>\n",
       "      <td>Men</td>\n",
       "      <td>Military Patrol</td>\n",
       "      <td>Gold</td>\n",
       "    </tr>\n",
       "    <tr>\n",
       "      <th>...</th>\n",
       "      <td>...</td>\n",
       "      <td>...</td>\n",
       "      <td>...</td>\n",
       "      <td>...</td>\n",
       "      <td>...</td>\n",
       "      <td>...</td>\n",
       "      <td>...</td>\n",
       "      <td>...</td>\n",
       "      <td>...</td>\n",
       "    </tr>\n",
       "    <tr>\n",
       "      <th>5765</th>\n",
       "      <td>2014</td>\n",
       "      <td>Sochi</td>\n",
       "      <td>Skiing</td>\n",
       "      <td>Snowboard</td>\n",
       "      <td>JONES, Jenny</td>\n",
       "      <td>GBR</td>\n",
       "      <td>Women</td>\n",
       "      <td>Slopestyle</td>\n",
       "      <td>Bronze</td>\n",
       "    </tr>\n",
       "    <tr>\n",
       "      <th>5766</th>\n",
       "      <td>2014</td>\n",
       "      <td>Sochi</td>\n",
       "      <td>Skiing</td>\n",
       "      <td>Snowboard</td>\n",
       "      <td>ANDERSON, Jamie</td>\n",
       "      <td>USA</td>\n",
       "      <td>Women</td>\n",
       "      <td>Slopestyle</td>\n",
       "      <td>Gold</td>\n",
       "    </tr>\n",
       "    <tr>\n",
       "      <th>5767</th>\n",
       "      <td>2014</td>\n",
       "      <td>Sochi</td>\n",
       "      <td>Skiing</td>\n",
       "      <td>Snowboard</td>\n",
       "      <td>MALTAIS, Dominique</td>\n",
       "      <td>CAN</td>\n",
       "      <td>Women</td>\n",
       "      <td>Snowboard Cross</td>\n",
       "      <td>Silver</td>\n",
       "    </tr>\n",
       "    <tr>\n",
       "      <th>5768</th>\n",
       "      <td>2014</td>\n",
       "      <td>Sochi</td>\n",
       "      <td>Skiing</td>\n",
       "      <td>Snowboard</td>\n",
       "      <td>SAMKOVA, Eva</td>\n",
       "      <td>CZE</td>\n",
       "      <td>Women</td>\n",
       "      <td>Snowboard Cross</td>\n",
       "      <td>Gold</td>\n",
       "    </tr>\n",
       "    <tr>\n",
       "      <th>5769</th>\n",
       "      <td>2014</td>\n",
       "      <td>Sochi</td>\n",
       "      <td>Skiing</td>\n",
       "      <td>Snowboard</td>\n",
       "      <td>TRESPEUCH, Chloe</td>\n",
       "      <td>FRA</td>\n",
       "      <td>Women</td>\n",
       "      <td>Snowboard Cross</td>\n",
       "      <td>Bronze</td>\n",
       "    </tr>\n",
       "  </tbody>\n",
       "</table>\n",
       "<p>5770 rows × 9 columns</p>\n",
       "</div>"
      ],
      "text/plain": [
       "      Year      City     Sport Discipline               Athlete Country  \\\n",
       "0     1924  Chamonix  Biathlon   Biathlon           BERTHET, G.     FRA   \n",
       "1     1924  Chamonix  Biathlon   Biathlon        MANDRILLON, C.     FRA   \n",
       "2     1924  Chamonix  Biathlon   Biathlon   MANDRILLON, Maurice     FRA   \n",
       "3     1924  Chamonix  Biathlon   Biathlon       VANDELLE, André     FRA   \n",
       "4     1924  Chamonix  Biathlon   Biathlon  AUFDENBLATTEN, Adolf     SUI   \n",
       "...    ...       ...       ...        ...                   ...     ...   \n",
       "5765  2014     Sochi    Skiing  Snowboard          JONES, Jenny     GBR   \n",
       "5766  2014     Sochi    Skiing  Snowboard       ANDERSON, Jamie     USA   \n",
       "5767  2014     Sochi    Skiing  Snowboard    MALTAIS, Dominique     CAN   \n",
       "5768  2014     Sochi    Skiing  Snowboard          SAMKOVA, Eva     CZE   \n",
       "5769  2014     Sochi    Skiing  Snowboard      TRESPEUCH, Chloe     FRA   \n",
       "\n",
       "     Gender            Event   Medal  \n",
       "0       Men  Military Patrol  Bronze  \n",
       "1       Men  Military Patrol  Bronze  \n",
       "2       Men  Military Patrol  Bronze  \n",
       "3       Men  Military Patrol  Bronze  \n",
       "4       Men  Military Patrol    Gold  \n",
       "...     ...              ...     ...  \n",
       "5765  Women       Slopestyle  Bronze  \n",
       "5766  Women       Slopestyle    Gold  \n",
       "5767  Women  Snowboard Cross  Silver  \n",
       "5768  Women  Snowboard Cross    Gold  \n",
       "5769  Women  Snowboard Cross  Bronze  \n",
       "\n",
       "[5770 rows x 9 columns]"
      ]
     },
     "execution_count": 6,
     "metadata": {},
     "output_type": "execute_result"
    }
   ],
   "source": [
    "winter"
   ]
  },
  {
   "cell_type": "code",
   "execution_count": 7,
   "metadata": {},
   "outputs": [
    {
     "name": "stdout",
     "output_type": "stream",
     "text": [
      "<class 'pandas.core.frame.DataFrame'>\n",
      "RangeIndex: 5770 entries, 0 to 5769\n",
      "Data columns (total 9 columns):\n",
      " #   Column      Non-Null Count  Dtype \n",
      "---  ------      --------------  ----- \n",
      " 0   Year        5770 non-null   int64 \n",
      " 1   City        5770 non-null   object\n",
      " 2   Sport       5770 non-null   object\n",
      " 3   Discipline  5770 non-null   object\n",
      " 4   Athlete     5770 non-null   object\n",
      " 5   Country     5770 non-null   object\n",
      " 6   Gender      5770 non-null   object\n",
      " 7   Event       5770 non-null   object\n",
      " 8   Medal       5770 non-null   object\n",
      "dtypes: int64(1), object(8)\n",
      "memory usage: 405.8+ KB\n"
     ]
    }
   ],
   "source": [
    "\n",
    "winter.info()"
   ]
  },
  {
   "cell_type": "code",
   "execution_count": 8,
   "metadata": {},
   "outputs": [
    {
     "data": {
      "text/html": [
       "<div>\n",
       "<style scoped>\n",
       "    .dataframe tbody tr th:only-of-type {\n",
       "        vertical-align: middle;\n",
       "    }\n",
       "\n",
       "    .dataframe tbody tr th {\n",
       "        vertical-align: top;\n",
       "    }\n",
       "\n",
       "    .dataframe thead th {\n",
       "        text-align: right;\n",
       "    }\n",
       "</style>\n",
       "<table border=\"1\" class=\"dataframe\">\n",
       "  <thead>\n",
       "    <tr style=\"text-align: right;\">\n",
       "      <th></th>\n",
       "      <th>Country</th>\n",
       "      <th>Code</th>\n",
       "      <th>Population</th>\n",
       "      <th>GDP per Capita</th>\n",
       "    </tr>\n",
       "  </thead>\n",
       "  <tbody>\n",
       "    <tr>\n",
       "      <th>0</th>\n",
       "      <td>Afghanistan</td>\n",
       "      <td>AFG</td>\n",
       "      <td>32526562.0</td>\n",
       "      <td>594.323081</td>\n",
       "    </tr>\n",
       "    <tr>\n",
       "      <th>1</th>\n",
       "      <td>Albania</td>\n",
       "      <td>ALB</td>\n",
       "      <td>2889167.0</td>\n",
       "      <td>3945.217582</td>\n",
       "    </tr>\n",
       "    <tr>\n",
       "      <th>2</th>\n",
       "      <td>Algeria</td>\n",
       "      <td>ALG</td>\n",
       "      <td>39666519.0</td>\n",
       "      <td>4206.031232</td>\n",
       "    </tr>\n",
       "    <tr>\n",
       "      <th>3</th>\n",
       "      <td>American Samoa*</td>\n",
       "      <td>ASA</td>\n",
       "      <td>55538.0</td>\n",
       "      <td>NaN</td>\n",
       "    </tr>\n",
       "    <tr>\n",
       "      <th>4</th>\n",
       "      <td>Andorra</td>\n",
       "      <td>AND</td>\n",
       "      <td>70473.0</td>\n",
       "      <td>NaN</td>\n",
       "    </tr>\n",
       "    <tr>\n",
       "      <th>...</th>\n",
       "      <td>...</td>\n",
       "      <td>...</td>\n",
       "      <td>...</td>\n",
       "      <td>...</td>\n",
       "    </tr>\n",
       "    <tr>\n",
       "      <th>196</th>\n",
       "      <td>Vietnam</td>\n",
       "      <td>VIE</td>\n",
       "      <td>91703800.0</td>\n",
       "      <td>2111.138024</td>\n",
       "    </tr>\n",
       "    <tr>\n",
       "      <th>197</th>\n",
       "      <td>Virgin Islands*</td>\n",
       "      <td>ISV</td>\n",
       "      <td>103574.0</td>\n",
       "      <td>NaN</td>\n",
       "    </tr>\n",
       "    <tr>\n",
       "      <th>198</th>\n",
       "      <td>Yemen</td>\n",
       "      <td>YEM</td>\n",
       "      <td>26832215.0</td>\n",
       "      <td>1406.291651</td>\n",
       "    </tr>\n",
       "    <tr>\n",
       "      <th>199</th>\n",
       "      <td>Zambia</td>\n",
       "      <td>ZAM</td>\n",
       "      <td>16211767.0</td>\n",
       "      <td>1304.879014</td>\n",
       "    </tr>\n",
       "    <tr>\n",
       "      <th>200</th>\n",
       "      <td>Zimbabwe</td>\n",
       "      <td>ZIM</td>\n",
       "      <td>15602751.0</td>\n",
       "      <td>924.143819</td>\n",
       "    </tr>\n",
       "  </tbody>\n",
       "</table>\n",
       "<p>201 rows × 4 columns</p>\n",
       "</div>"
      ],
      "text/plain": [
       "             Country Code  Population  GDP per Capita\n",
       "0        Afghanistan  AFG  32526562.0      594.323081\n",
       "1            Albania  ALB   2889167.0     3945.217582\n",
       "2            Algeria  ALG  39666519.0     4206.031232\n",
       "3    American Samoa*  ASA     55538.0             NaN\n",
       "4            Andorra  AND     70473.0             NaN\n",
       "..               ...  ...         ...             ...\n",
       "196          Vietnam  VIE  91703800.0     2111.138024\n",
       "197  Virgin Islands*  ISV    103574.0             NaN\n",
       "198            Yemen  YEM  26832215.0     1406.291651\n",
       "199           Zambia  ZAM  16211767.0     1304.879014\n",
       "200         Zimbabwe  ZIM  15602751.0      924.143819\n",
       "\n",
       "[201 rows x 4 columns]"
      ]
     },
     "execution_count": 8,
     "metadata": {},
     "output_type": "execute_result"
    }
   ],
   "source": [
    "dic"
   ]
  },
  {
   "cell_type": "code",
   "execution_count": 9,
   "metadata": {},
   "outputs": [
    {
     "name": "stdout",
     "output_type": "stream",
     "text": [
      "<class 'pandas.core.frame.DataFrame'>\n",
      "RangeIndex: 201 entries, 0 to 200\n",
      "Data columns (total 4 columns):\n",
      " #   Column          Non-Null Count  Dtype  \n",
      "---  ------          --------------  -----  \n",
      " 0   Country         201 non-null    object \n",
      " 1   Code            201 non-null    object \n",
      " 2   Population      196 non-null    float64\n",
      " 3   GDP per Capita  176 non-null    float64\n",
      "dtypes: float64(2), object(2)\n",
      "memory usage: 6.4+ KB\n"
     ]
    }
   ],
   "source": [
    "dic.info()"
   ]
  },
  {
   "cell_type": "code",
   "execution_count": 10,
   "metadata": {},
   "outputs": [
    {
     "data": {
      "text/html": [
       "<div>\n",
       "<style scoped>\n",
       "    .dataframe tbody tr th:only-of-type {\n",
       "        vertical-align: middle;\n",
       "    }\n",
       "\n",
       "    .dataframe tbody tr th {\n",
       "        vertical-align: top;\n",
       "    }\n",
       "\n",
       "    .dataframe thead th {\n",
       "        text-align: right;\n",
       "    }\n",
       "</style>\n",
       "<table border=\"1\" class=\"dataframe\">\n",
       "  <thead>\n",
       "    <tr style=\"text-align: right;\">\n",
       "      <th></th>\n",
       "      <th>Country</th>\n",
       "      <th>Code</th>\n",
       "      <th>Population</th>\n",
       "      <th>GDP per Capita</th>\n",
       "    </tr>\n",
       "  </thead>\n",
       "  <tbody>\n",
       "    <tr>\n",
       "      <th>3</th>\n",
       "      <td>American Samoa*</td>\n",
       "      <td>ASA</td>\n",
       "      <td>55538.0</td>\n",
       "      <td>NaN</td>\n",
       "    </tr>\n",
       "    <tr>\n",
       "      <th>4</th>\n",
       "      <td>Andorra</td>\n",
       "      <td>AND</td>\n",
       "      <td>70473.0</td>\n",
       "      <td>NaN</td>\n",
       "    </tr>\n",
       "    <tr>\n",
       "      <th>9</th>\n",
       "      <td>Aruba*</td>\n",
       "      <td>ARU</td>\n",
       "      <td>103889.0</td>\n",
       "      <td>NaN</td>\n",
       "    </tr>\n",
       "    <tr>\n",
       "      <th>20</th>\n",
       "      <td>Bermuda*</td>\n",
       "      <td>BER</td>\n",
       "      <td>65235.0</td>\n",
       "      <td>NaN</td>\n",
       "    </tr>\n",
       "    <tr>\n",
       "      <th>27</th>\n",
       "      <td>British Virgin Islands</td>\n",
       "      <td>IVB</td>\n",
       "      <td>30117.0</td>\n",
       "      <td>NaN</td>\n",
       "    </tr>\n",
       "    <tr>\n",
       "      <th>36</th>\n",
       "      <td>Cayman Islands*</td>\n",
       "      <td>CAY</td>\n",
       "      <td>59967.0</td>\n",
       "      <td>NaN</td>\n",
       "    </tr>\n",
       "    <tr>\n",
       "      <th>45</th>\n",
       "      <td>Cook Islands</td>\n",
       "      <td>COK</td>\n",
       "      <td>NaN</td>\n",
       "      <td>NaN</td>\n",
       "    </tr>\n",
       "    <tr>\n",
       "      <th>49</th>\n",
       "      <td>Cuba</td>\n",
       "      <td>CUB</td>\n",
       "      <td>11389562.0</td>\n",
       "      <td>NaN</td>\n",
       "    </tr>\n",
       "    <tr>\n",
       "      <th>61</th>\n",
       "      <td>Eritrea</td>\n",
       "      <td>ERI</td>\n",
       "      <td>NaN</td>\n",
       "      <td>NaN</td>\n",
       "    </tr>\n",
       "    <tr>\n",
       "      <th>74</th>\n",
       "      <td>Guam</td>\n",
       "      <td>GUM</td>\n",
       "      <td>169885.0</td>\n",
       "      <td>NaN</td>\n",
       "    </tr>\n",
       "    <tr>\n",
       "      <th>86</th>\n",
       "      <td>Iran</td>\n",
       "      <td>IRI</td>\n",
       "      <td>79109272.0</td>\n",
       "      <td>NaN</td>\n",
       "    </tr>\n",
       "    <tr>\n",
       "      <th>96</th>\n",
       "      <td>Korea, North</td>\n",
       "      <td>PRK</td>\n",
       "      <td>25155317.0</td>\n",
       "      <td>NaN</td>\n",
       "    </tr>\n",
       "    <tr>\n",
       "      <th>105</th>\n",
       "      <td>Libya</td>\n",
       "      <td>LBA</td>\n",
       "      <td>6278438.0</td>\n",
       "      <td>NaN</td>\n",
       "    </tr>\n",
       "    <tr>\n",
       "      <th>106</th>\n",
       "      <td>Liechtenstein</td>\n",
       "      <td>LIE</td>\n",
       "      <td>37531.0</td>\n",
       "      <td>NaN</td>\n",
       "    </tr>\n",
       "    <tr>\n",
       "      <th>116</th>\n",
       "      <td>Mauritania</td>\n",
       "      <td>MTN</td>\n",
       "      <td>4067564.0</td>\n",
       "      <td>NaN</td>\n",
       "    </tr>\n",
       "    <tr>\n",
       "      <th>121</th>\n",
       "      <td>Monaco</td>\n",
       "      <td>MON</td>\n",
       "      <td>37731.0</td>\n",
       "      <td>NaN</td>\n",
       "    </tr>\n",
       "    <tr>\n",
       "      <th>130</th>\n",
       "      <td>Netherlands Antilles*</td>\n",
       "      <td>AHO</td>\n",
       "      <td>NaN</td>\n",
       "      <td>NaN</td>\n",
       "    </tr>\n",
       "    <tr>\n",
       "      <th>139</th>\n",
       "      <td>Palestine, Occupied Territories</td>\n",
       "      <td>PLE</td>\n",
       "      <td>NaN</td>\n",
       "      <td>NaN</td>\n",
       "    </tr>\n",
       "    <tr>\n",
       "      <th>141</th>\n",
       "      <td>Papua New Guinea</td>\n",
       "      <td>PNG</td>\n",
       "      <td>7619321.0</td>\n",
       "      <td>NaN</td>\n",
       "    </tr>\n",
       "    <tr>\n",
       "      <th>147</th>\n",
       "      <td>Puerto Rico*</td>\n",
       "      <td>PUR</td>\n",
       "      <td>3474182.0</td>\n",
       "      <td>NaN</td>\n",
       "    </tr>\n",
       "    <tr>\n",
       "      <th>156</th>\n",
       "      <td>San Marino</td>\n",
       "      <td>SMR</td>\n",
       "      <td>31781.0</td>\n",
       "      <td>NaN</td>\n",
       "    </tr>\n",
       "    <tr>\n",
       "      <th>176</th>\n",
       "      <td>Syria</td>\n",
       "      <td>SYR</td>\n",
       "      <td>18502413.0</td>\n",
       "      <td>NaN</td>\n",
       "    </tr>\n",
       "    <tr>\n",
       "      <th>177</th>\n",
       "      <td>Taiwan</td>\n",
       "      <td>TPE</td>\n",
       "      <td>NaN</td>\n",
       "      <td>NaN</td>\n",
       "    </tr>\n",
       "    <tr>\n",
       "      <th>195</th>\n",
       "      <td>Venezuela</td>\n",
       "      <td>VEN</td>\n",
       "      <td>31108083.0</td>\n",
       "      <td>NaN</td>\n",
       "    </tr>\n",
       "    <tr>\n",
       "      <th>197</th>\n",
       "      <td>Virgin Islands*</td>\n",
       "      <td>ISV</td>\n",
       "      <td>103574.0</td>\n",
       "      <td>NaN</td>\n",
       "    </tr>\n",
       "  </tbody>\n",
       "</table>\n",
       "</div>"
      ],
      "text/plain": [
       "                             Country Code  Population  GDP per Capita\n",
       "3                    American Samoa*  ASA     55538.0             NaN\n",
       "4                            Andorra  AND     70473.0             NaN\n",
       "9                             Aruba*  ARU    103889.0             NaN\n",
       "20                          Bermuda*  BER     65235.0             NaN\n",
       "27            British Virgin Islands  IVB     30117.0             NaN\n",
       "36                   Cayman Islands*  CAY     59967.0             NaN\n",
       "45                      Cook Islands  COK         NaN             NaN\n",
       "49                              Cuba  CUB  11389562.0             NaN\n",
       "61                           Eritrea  ERI         NaN             NaN\n",
       "74                              Guam  GUM    169885.0             NaN\n",
       "86                              Iran  IRI  79109272.0             NaN\n",
       "96                      Korea, North  PRK  25155317.0             NaN\n",
       "105                            Libya  LBA   6278438.0             NaN\n",
       "106                    Liechtenstein  LIE     37531.0             NaN\n",
       "116                       Mauritania  MTN   4067564.0             NaN\n",
       "121                           Monaco  MON     37731.0             NaN\n",
       "130            Netherlands Antilles*  AHO         NaN             NaN\n",
       "139  Palestine, Occupied Territories  PLE         NaN             NaN\n",
       "141                 Papua New Guinea  PNG   7619321.0             NaN\n",
       "147                     Puerto Rico*  PUR   3474182.0             NaN\n",
       "156                       San Marino  SMR     31781.0             NaN\n",
       "176                            Syria  SYR  18502413.0             NaN\n",
       "177                           Taiwan  TPE         NaN             NaN\n",
       "195                        Venezuela  VEN  31108083.0             NaN\n",
       "197                  Virgin Islands*  ISV    103574.0             NaN"
      ]
     },
     "execution_count": 10,
     "metadata": {},
     "output_type": "execute_result"
    }
   ],
   "source": [
    "dic[dic.isnull().any(axis = 1)]"
   ]
  },
  {
   "cell_type": "code",
   "execution_count": null,
   "metadata": {},
   "outputs": [],
   "source": []
  },
  {
   "cell_type": "markdown",
   "metadata": {},
   "source": [
    "## Merging and Concatenating"
   ]
  },
  {
   "cell_type": "markdown",
   "metadata": {},
   "source": [
    "1. __Merge__ Summer and Winter (one row for each Medal awarded in any Olympic Games) and save the merged DataFrame in __olympics__. \n",
    "2. An __additional column__ (e.g. \"Edition\") shall indicate the Edition -> __Summer or Winter__.\n",
    "3. Add the __full Country name__ from dictionary to olympics (e.g. France for FRA)."
   ]
  },
  {
   "cell_type": "code",
   "execution_count": null,
   "metadata": {},
   "outputs": [],
   "source": [
    "pd.concat([summer, winter], axis = 0, keys = [\"Summer\", \"Winter\"],\n",
    "          names = [\"Edition\"]).reset_index().drop(columns = \"level_1\")"
   ]
  },
  {
   "cell_type": "code",
   "execution_count": 37,
   "metadata": {},
   "outputs": [],
   "source": [
    "olympics = pd.concat([summer, winter], axis = 0, keys = [\"Summer\", \"Winter\"],\n",
    "                     names = [\"Edition\"]).reset_index().drop(columns = \"level_1\")"
   ]
  },
  {
   "cell_type": "code",
   "execution_count": 38,
   "metadata": {},
   "outputs": [
    {
     "data": {
      "text/html": [
       "<div>\n",
       "<style scoped>\n",
       "    .dataframe tbody tr th:only-of-type {\n",
       "        vertical-align: middle;\n",
       "    }\n",
       "\n",
       "    .dataframe tbody tr th {\n",
       "        vertical-align: top;\n",
       "    }\n",
       "\n",
       "    .dataframe thead th {\n",
       "        text-align: right;\n",
       "    }\n",
       "</style>\n",
       "<table border=\"1\" class=\"dataframe\">\n",
       "  <thead>\n",
       "    <tr style=\"text-align: right;\">\n",
       "      <th></th>\n",
       "      <th>Edition</th>\n",
       "      <th>Year</th>\n",
       "      <th>City</th>\n",
       "      <th>Sport</th>\n",
       "      <th>Discipline</th>\n",
       "      <th>Athlete</th>\n",
       "      <th>Country</th>\n",
       "      <th>Gender</th>\n",
       "      <th>Event</th>\n",
       "      <th>Medal</th>\n",
       "    </tr>\n",
       "  </thead>\n",
       "  <tbody>\n",
       "    <tr>\n",
       "      <th>0</th>\n",
       "      <td>Summer</td>\n",
       "      <td>1896</td>\n",
       "      <td>Athens</td>\n",
       "      <td>Aquatics</td>\n",
       "      <td>Swimming</td>\n",
       "      <td>HAJOS, Alfred</td>\n",
       "      <td>HUN</td>\n",
       "      <td>Men</td>\n",
       "      <td>100M Freestyle</td>\n",
       "      <td>Gold</td>\n",
       "    </tr>\n",
       "    <tr>\n",
       "      <th>1</th>\n",
       "      <td>Summer</td>\n",
       "      <td>1896</td>\n",
       "      <td>Athens</td>\n",
       "      <td>Aquatics</td>\n",
       "      <td>Swimming</td>\n",
       "      <td>HERSCHMANN, Otto</td>\n",
       "      <td>AUT</td>\n",
       "      <td>Men</td>\n",
       "      <td>100M Freestyle</td>\n",
       "      <td>Silver</td>\n",
       "    </tr>\n",
       "    <tr>\n",
       "      <th>2</th>\n",
       "      <td>Summer</td>\n",
       "      <td>1896</td>\n",
       "      <td>Athens</td>\n",
       "      <td>Aquatics</td>\n",
       "      <td>Swimming</td>\n",
       "      <td>DRIVAS, Dimitrios</td>\n",
       "      <td>GRE</td>\n",
       "      <td>Men</td>\n",
       "      <td>100M Freestyle For Sailors</td>\n",
       "      <td>Bronze</td>\n",
       "    </tr>\n",
       "    <tr>\n",
       "      <th>3</th>\n",
       "      <td>Summer</td>\n",
       "      <td>1896</td>\n",
       "      <td>Athens</td>\n",
       "      <td>Aquatics</td>\n",
       "      <td>Swimming</td>\n",
       "      <td>MALOKINIS, Ioannis</td>\n",
       "      <td>GRE</td>\n",
       "      <td>Men</td>\n",
       "      <td>100M Freestyle For Sailors</td>\n",
       "      <td>Gold</td>\n",
       "    </tr>\n",
       "    <tr>\n",
       "      <th>4</th>\n",
       "      <td>Summer</td>\n",
       "      <td>1896</td>\n",
       "      <td>Athens</td>\n",
       "      <td>Aquatics</td>\n",
       "      <td>Swimming</td>\n",
       "      <td>CHASAPIS, Spiridon</td>\n",
       "      <td>GRE</td>\n",
       "      <td>Men</td>\n",
       "      <td>100M Freestyle For Sailors</td>\n",
       "      <td>Silver</td>\n",
       "    </tr>\n",
       "    <tr>\n",
       "      <th>...</th>\n",
       "      <td>...</td>\n",
       "      <td>...</td>\n",
       "      <td>...</td>\n",
       "      <td>...</td>\n",
       "      <td>...</td>\n",
       "      <td>...</td>\n",
       "      <td>...</td>\n",
       "      <td>...</td>\n",
       "      <td>...</td>\n",
       "      <td>...</td>\n",
       "    </tr>\n",
       "    <tr>\n",
       "      <th>36930</th>\n",
       "      <td>Winter</td>\n",
       "      <td>2014</td>\n",
       "      <td>Sochi</td>\n",
       "      <td>Skiing</td>\n",
       "      <td>Snowboard</td>\n",
       "      <td>JONES, Jenny</td>\n",
       "      <td>GBR</td>\n",
       "      <td>Women</td>\n",
       "      <td>Slopestyle</td>\n",
       "      <td>Bronze</td>\n",
       "    </tr>\n",
       "    <tr>\n",
       "      <th>36931</th>\n",
       "      <td>Winter</td>\n",
       "      <td>2014</td>\n",
       "      <td>Sochi</td>\n",
       "      <td>Skiing</td>\n",
       "      <td>Snowboard</td>\n",
       "      <td>ANDERSON, Jamie</td>\n",
       "      <td>USA</td>\n",
       "      <td>Women</td>\n",
       "      <td>Slopestyle</td>\n",
       "      <td>Gold</td>\n",
       "    </tr>\n",
       "    <tr>\n",
       "      <th>36932</th>\n",
       "      <td>Winter</td>\n",
       "      <td>2014</td>\n",
       "      <td>Sochi</td>\n",
       "      <td>Skiing</td>\n",
       "      <td>Snowboard</td>\n",
       "      <td>MALTAIS, Dominique</td>\n",
       "      <td>CAN</td>\n",
       "      <td>Women</td>\n",
       "      <td>Snowboard Cross</td>\n",
       "      <td>Silver</td>\n",
       "    </tr>\n",
       "    <tr>\n",
       "      <th>36933</th>\n",
       "      <td>Winter</td>\n",
       "      <td>2014</td>\n",
       "      <td>Sochi</td>\n",
       "      <td>Skiing</td>\n",
       "      <td>Snowboard</td>\n",
       "      <td>SAMKOVA, Eva</td>\n",
       "      <td>CZE</td>\n",
       "      <td>Women</td>\n",
       "      <td>Snowboard Cross</td>\n",
       "      <td>Gold</td>\n",
       "    </tr>\n",
       "    <tr>\n",
       "      <th>36934</th>\n",
       "      <td>Winter</td>\n",
       "      <td>2014</td>\n",
       "      <td>Sochi</td>\n",
       "      <td>Skiing</td>\n",
       "      <td>Snowboard</td>\n",
       "      <td>TRESPEUCH, Chloe</td>\n",
       "      <td>FRA</td>\n",
       "      <td>Women</td>\n",
       "      <td>Snowboard Cross</td>\n",
       "      <td>Bronze</td>\n",
       "    </tr>\n",
       "  </tbody>\n",
       "</table>\n",
       "<p>36935 rows × 10 columns</p>\n",
       "</div>"
      ],
      "text/plain": [
       "      Edition  Year    City     Sport Discipline             Athlete Country  \\\n",
       "0      Summer  1896  Athens  Aquatics   Swimming       HAJOS, Alfred     HUN   \n",
       "1      Summer  1896  Athens  Aquatics   Swimming    HERSCHMANN, Otto     AUT   \n",
       "2      Summer  1896  Athens  Aquatics   Swimming   DRIVAS, Dimitrios     GRE   \n",
       "3      Summer  1896  Athens  Aquatics   Swimming  MALOKINIS, Ioannis     GRE   \n",
       "4      Summer  1896  Athens  Aquatics   Swimming  CHASAPIS, Spiridon     GRE   \n",
       "...       ...   ...     ...       ...        ...                 ...     ...   \n",
       "36930  Winter  2014   Sochi    Skiing  Snowboard        JONES, Jenny     GBR   \n",
       "36931  Winter  2014   Sochi    Skiing  Snowboard     ANDERSON, Jamie     USA   \n",
       "36932  Winter  2014   Sochi    Skiing  Snowboard  MALTAIS, Dominique     CAN   \n",
       "36933  Winter  2014   Sochi    Skiing  Snowboard        SAMKOVA, Eva     CZE   \n",
       "36934  Winter  2014   Sochi    Skiing  Snowboard    TRESPEUCH, Chloe     FRA   \n",
       "\n",
       "      Gender                       Event   Medal  \n",
       "0        Men              100M Freestyle    Gold  \n",
       "1        Men              100M Freestyle  Silver  \n",
       "2        Men  100M Freestyle For Sailors  Bronze  \n",
       "3        Men  100M Freestyle For Sailors    Gold  \n",
       "4        Men  100M Freestyle For Sailors  Silver  \n",
       "...      ...                         ...     ...  \n",
       "36930  Women                  Slopestyle  Bronze  \n",
       "36931  Women                  Slopestyle    Gold  \n",
       "36932  Women             Snowboard Cross  Silver  \n",
       "36933  Women             Snowboard Cross    Gold  \n",
       "36934  Women             Snowboard Cross  Bronze  \n",
       "\n",
       "[36935 rows x 10 columns]"
      ]
     },
     "execution_count": 38,
     "metadata": {},
     "output_type": "execute_result"
    }
   ],
   "source": [
    "olympics"
   ]
  },
  {
   "cell_type": "code",
   "execution_count": 39,
   "metadata": {},
   "outputs": [
    {
     "data": {
      "text/html": [
       "<div>\n",
       "<style scoped>\n",
       "    .dataframe tbody tr th:only-of-type {\n",
       "        vertical-align: middle;\n",
       "    }\n",
       "\n",
       "    .dataframe tbody tr th {\n",
       "        vertical-align: top;\n",
       "    }\n",
       "\n",
       "    .dataframe thead th {\n",
       "        text-align: right;\n",
       "    }\n",
       "</style>\n",
       "<table border=\"1\" class=\"dataframe\">\n",
       "  <thead>\n",
       "    <tr style=\"text-align: right;\">\n",
       "      <th></th>\n",
       "      <th>Country</th>\n",
       "      <th>Code</th>\n",
       "      <th>Population</th>\n",
       "      <th>GDP</th>\n",
       "    </tr>\n",
       "  </thead>\n",
       "  <tbody>\n",
       "    <tr>\n",
       "      <th>0</th>\n",
       "      <td>Afghanistan</td>\n",
       "      <td>AFG</td>\n",
       "      <td>32526562.0</td>\n",
       "      <td>594.323081</td>\n",
       "    </tr>\n",
       "    <tr>\n",
       "      <th>1</th>\n",
       "      <td>Albania</td>\n",
       "      <td>ALB</td>\n",
       "      <td>2889167.0</td>\n",
       "      <td>3945.217582</td>\n",
       "    </tr>\n",
       "    <tr>\n",
       "      <th>2</th>\n",
       "      <td>Algeria</td>\n",
       "      <td>ALG</td>\n",
       "      <td>39666519.0</td>\n",
       "      <td>4206.031232</td>\n",
       "    </tr>\n",
       "    <tr>\n",
       "      <th>3</th>\n",
       "      <td>American Samoa*</td>\n",
       "      <td>ASA</td>\n",
       "      <td>55538.0</td>\n",
       "      <td>NaN</td>\n",
       "    </tr>\n",
       "    <tr>\n",
       "      <th>4</th>\n",
       "      <td>Andorra</td>\n",
       "      <td>AND</td>\n",
       "      <td>70473.0</td>\n",
       "      <td>NaN</td>\n",
       "    </tr>\n",
       "  </tbody>\n",
       "</table>\n",
       "</div>"
      ],
      "text/plain": [
       "           Country Code  Population          GDP\n",
       "0      Afghanistan  AFG  32526562.0   594.323081\n",
       "1          Albania  ALB   2889167.0  3945.217582\n",
       "2          Algeria  ALG  39666519.0  4206.031232\n",
       "3  American Samoa*  ASA     55538.0          NaN\n",
       "4          Andorra  AND     70473.0          NaN"
      ]
     },
     "execution_count": 39,
     "metadata": {},
     "output_type": "execute_result"
    }
   ],
   "source": [
    "dic.head()"
   ]
  },
  {
   "cell_type": "code",
   "execution_count": 40,
   "metadata": {},
   "outputs": [
    {
     "data": {
      "text/html": [
       "<div>\n",
       "<style scoped>\n",
       "    .dataframe tbody tr th:only-of-type {\n",
       "        vertical-align: middle;\n",
       "    }\n",
       "\n",
       "    .dataframe tbody tr th {\n",
       "        vertical-align: top;\n",
       "    }\n",
       "\n",
       "    .dataframe thead th {\n",
       "        text-align: right;\n",
       "    }\n",
       "</style>\n",
       "<table border=\"1\" class=\"dataframe\">\n",
       "  <thead>\n",
       "    <tr style=\"text-align: right;\">\n",
       "      <th></th>\n",
       "      <th>Edition</th>\n",
       "      <th>Year</th>\n",
       "      <th>City</th>\n",
       "      <th>Sport</th>\n",
       "      <th>Discipline</th>\n",
       "      <th>Athlete</th>\n",
       "      <th>Country_x</th>\n",
       "      <th>Gender</th>\n",
       "      <th>Event</th>\n",
       "      <th>Medal</th>\n",
       "      <th>Country_y</th>\n",
       "    </tr>\n",
       "  </thead>\n",
       "  <tbody>\n",
       "    <tr>\n",
       "      <th>0</th>\n",
       "      <td>Summer</td>\n",
       "      <td>1896</td>\n",
       "      <td>Athens</td>\n",
       "      <td>Aquatics</td>\n",
       "      <td>Swimming</td>\n",
       "      <td>HAJOS, Alfred</td>\n",
       "      <td>HUN</td>\n",
       "      <td>Men</td>\n",
       "      <td>100M Freestyle</td>\n",
       "      <td>Gold</td>\n",
       "      <td>Hungary</td>\n",
       "    </tr>\n",
       "    <tr>\n",
       "      <th>1</th>\n",
       "      <td>Summer</td>\n",
       "      <td>1896</td>\n",
       "      <td>Athens</td>\n",
       "      <td>Aquatics</td>\n",
       "      <td>Swimming</td>\n",
       "      <td>HERSCHMANN, Otto</td>\n",
       "      <td>AUT</td>\n",
       "      <td>Men</td>\n",
       "      <td>100M Freestyle</td>\n",
       "      <td>Silver</td>\n",
       "      <td>Austria</td>\n",
       "    </tr>\n",
       "    <tr>\n",
       "      <th>2</th>\n",
       "      <td>Summer</td>\n",
       "      <td>1896</td>\n",
       "      <td>Athens</td>\n",
       "      <td>Aquatics</td>\n",
       "      <td>Swimming</td>\n",
       "      <td>DRIVAS, Dimitrios</td>\n",
       "      <td>GRE</td>\n",
       "      <td>Men</td>\n",
       "      <td>100M Freestyle For Sailors</td>\n",
       "      <td>Bronze</td>\n",
       "      <td>Greece</td>\n",
       "    </tr>\n",
       "    <tr>\n",
       "      <th>3</th>\n",
       "      <td>Summer</td>\n",
       "      <td>1896</td>\n",
       "      <td>Athens</td>\n",
       "      <td>Aquatics</td>\n",
       "      <td>Swimming</td>\n",
       "      <td>MALOKINIS, Ioannis</td>\n",
       "      <td>GRE</td>\n",
       "      <td>Men</td>\n",
       "      <td>100M Freestyle For Sailors</td>\n",
       "      <td>Gold</td>\n",
       "      <td>Greece</td>\n",
       "    </tr>\n",
       "    <tr>\n",
       "      <th>4</th>\n",
       "      <td>Summer</td>\n",
       "      <td>1896</td>\n",
       "      <td>Athens</td>\n",
       "      <td>Aquatics</td>\n",
       "      <td>Swimming</td>\n",
       "      <td>CHASAPIS, Spiridon</td>\n",
       "      <td>GRE</td>\n",
       "      <td>Men</td>\n",
       "      <td>100M Freestyle For Sailors</td>\n",
       "      <td>Silver</td>\n",
       "      <td>Greece</td>\n",
       "    </tr>\n",
       "    <tr>\n",
       "      <th>...</th>\n",
       "      <td>...</td>\n",
       "      <td>...</td>\n",
       "      <td>...</td>\n",
       "      <td>...</td>\n",
       "      <td>...</td>\n",
       "      <td>...</td>\n",
       "      <td>...</td>\n",
       "      <td>...</td>\n",
       "      <td>...</td>\n",
       "      <td>...</td>\n",
       "      <td>...</td>\n",
       "    </tr>\n",
       "    <tr>\n",
       "      <th>36930</th>\n",
       "      <td>Winter</td>\n",
       "      <td>2014</td>\n",
       "      <td>Sochi</td>\n",
       "      <td>Skiing</td>\n",
       "      <td>Snowboard</td>\n",
       "      <td>JONES, Jenny</td>\n",
       "      <td>GBR</td>\n",
       "      <td>Women</td>\n",
       "      <td>Slopestyle</td>\n",
       "      <td>Bronze</td>\n",
       "      <td>United Kingdom</td>\n",
       "    </tr>\n",
       "    <tr>\n",
       "      <th>36931</th>\n",
       "      <td>Winter</td>\n",
       "      <td>2014</td>\n",
       "      <td>Sochi</td>\n",
       "      <td>Skiing</td>\n",
       "      <td>Snowboard</td>\n",
       "      <td>ANDERSON, Jamie</td>\n",
       "      <td>USA</td>\n",
       "      <td>Women</td>\n",
       "      <td>Slopestyle</td>\n",
       "      <td>Gold</td>\n",
       "      <td>United States</td>\n",
       "    </tr>\n",
       "    <tr>\n",
       "      <th>36932</th>\n",
       "      <td>Winter</td>\n",
       "      <td>2014</td>\n",
       "      <td>Sochi</td>\n",
       "      <td>Skiing</td>\n",
       "      <td>Snowboard</td>\n",
       "      <td>MALTAIS, Dominique</td>\n",
       "      <td>CAN</td>\n",
       "      <td>Women</td>\n",
       "      <td>Snowboard Cross</td>\n",
       "      <td>Silver</td>\n",
       "      <td>Canada</td>\n",
       "    </tr>\n",
       "    <tr>\n",
       "      <th>36933</th>\n",
       "      <td>Winter</td>\n",
       "      <td>2014</td>\n",
       "      <td>Sochi</td>\n",
       "      <td>Skiing</td>\n",
       "      <td>Snowboard</td>\n",
       "      <td>SAMKOVA, Eva</td>\n",
       "      <td>CZE</td>\n",
       "      <td>Women</td>\n",
       "      <td>Snowboard Cross</td>\n",
       "      <td>Gold</td>\n",
       "      <td>Czech Republic</td>\n",
       "    </tr>\n",
       "    <tr>\n",
       "      <th>36934</th>\n",
       "      <td>Winter</td>\n",
       "      <td>2014</td>\n",
       "      <td>Sochi</td>\n",
       "      <td>Skiing</td>\n",
       "      <td>Snowboard</td>\n",
       "      <td>TRESPEUCH, Chloe</td>\n",
       "      <td>FRA</td>\n",
       "      <td>Women</td>\n",
       "      <td>Snowboard Cross</td>\n",
       "      <td>Bronze</td>\n",
       "      <td>France</td>\n",
       "    </tr>\n",
       "  </tbody>\n",
       "</table>\n",
       "<p>36935 rows × 11 columns</p>\n",
       "</div>"
      ],
      "text/plain": [
       "      Edition  Year    City     Sport Discipline             Athlete  \\\n",
       "0      Summer  1896  Athens  Aquatics   Swimming       HAJOS, Alfred   \n",
       "1      Summer  1896  Athens  Aquatics   Swimming    HERSCHMANN, Otto   \n",
       "2      Summer  1896  Athens  Aquatics   Swimming   DRIVAS, Dimitrios   \n",
       "3      Summer  1896  Athens  Aquatics   Swimming  MALOKINIS, Ioannis   \n",
       "4      Summer  1896  Athens  Aquatics   Swimming  CHASAPIS, Spiridon   \n",
       "...       ...   ...     ...       ...        ...                 ...   \n",
       "36930  Winter  2014   Sochi    Skiing  Snowboard        JONES, Jenny   \n",
       "36931  Winter  2014   Sochi    Skiing  Snowboard     ANDERSON, Jamie   \n",
       "36932  Winter  2014   Sochi    Skiing  Snowboard  MALTAIS, Dominique   \n",
       "36933  Winter  2014   Sochi    Skiing  Snowboard        SAMKOVA, Eva   \n",
       "36934  Winter  2014   Sochi    Skiing  Snowboard    TRESPEUCH, Chloe   \n",
       "\n",
       "      Country_x Gender                       Event   Medal       Country_y  \n",
       "0           HUN    Men              100M Freestyle    Gold         Hungary  \n",
       "1           AUT    Men              100M Freestyle  Silver         Austria  \n",
       "2           GRE    Men  100M Freestyle For Sailors  Bronze          Greece  \n",
       "3           GRE    Men  100M Freestyle For Sailors    Gold          Greece  \n",
       "4           GRE    Men  100M Freestyle For Sailors  Silver          Greece  \n",
       "...         ...    ...                         ...     ...             ...  \n",
       "36930       GBR  Women                  Slopestyle  Bronze  United Kingdom  \n",
       "36931       USA  Women                  Slopestyle    Gold   United States  \n",
       "36932       CAN  Women             Snowboard Cross  Silver          Canada  \n",
       "36933       CZE  Women             Snowboard Cross    Gold  Czech Republic  \n",
       "36934       FRA  Women             Snowboard Cross  Bronze          France  \n",
       "\n",
       "[36935 rows x 11 columns]"
      ]
     },
     "execution_count": 40,
     "metadata": {},
     "output_type": "execute_result"
    }
   ],
   "source": [
    "olympics.merge(dic.iloc[:, :2], how = \"left\", \n",
    "               left_on = \"Country\", right_on = \"Code\").drop(columns = [\"Code\"])"
   ]
  },
  {
   "cell_type": "code",
   "execution_count": 42,
   "metadata": {},
   "outputs": [],
   "source": [
    "olympics = olympics.merge(dic.iloc[:, :2], how = \"left\", \n",
    "                          left_on = \"Country\", right_on = \"Code\").drop(columns = [\"Code\"])"
   ]
  },
  {
   "cell_type": "code",
   "execution_count": 43,
   "metadata": {},
   "outputs": [
    {
     "name": "stdout",
     "output_type": "stream",
     "text": [
      "<class 'pandas.core.frame.DataFrame'>\n",
      "Int64Index: 36935 entries, 0 to 36934\n",
      "Data columns (total 11 columns):\n",
      " #   Column      Non-Null Count  Dtype \n",
      "---  ------      --------------  ----- \n",
      " 0   Edition     36935 non-null  object\n",
      " 1   Year        36935 non-null  int64 \n",
      " 2   City        36935 non-null  object\n",
      " 3   Sport       36935 non-null  object\n",
      " 4   Discipline  36935 non-null  object\n",
      " 5   Athlete     36935 non-null  object\n",
      " 6   Country_x   36931 non-null  object\n",
      " 7   Gender      36935 non-null  object\n",
      " 8   Event       36935 non-null  object\n",
      " 9   Medal       36935 non-null  object\n",
      " 10  Country_y   30568 non-null  object\n",
      "dtypes: int64(1), object(10)\n",
      "memory usage: 3.4+ MB\n"
     ]
    }
   ],
   "source": [
    "olympics.info()"
   ]
  },
  {
   "cell_type": "code",
   "execution_count": 44,
   "metadata": {},
   "outputs": [],
   "source": [
    "olympics.reset_index(drop = True, inplace = True)"
   ]
  },
  {
   "cell_type": "code",
   "execution_count": 45,
   "metadata": {},
   "outputs": [
    {
     "data": {
      "text/html": [
       "<div>\n",
       "<style scoped>\n",
       "    .dataframe tbody tr th:only-of-type {\n",
       "        vertical-align: middle;\n",
       "    }\n",
       "\n",
       "    .dataframe tbody tr th {\n",
       "        vertical-align: top;\n",
       "    }\n",
       "\n",
       "    .dataframe thead th {\n",
       "        text-align: right;\n",
       "    }\n",
       "</style>\n",
       "<table border=\"1\" class=\"dataframe\">\n",
       "  <thead>\n",
       "    <tr style=\"text-align: right;\">\n",
       "      <th></th>\n",
       "      <th>Edition</th>\n",
       "      <th>Year</th>\n",
       "      <th>City</th>\n",
       "      <th>Sport</th>\n",
       "      <th>Discipline</th>\n",
       "      <th>Athlete</th>\n",
       "      <th>Country_x</th>\n",
       "      <th>Gender</th>\n",
       "      <th>Event</th>\n",
       "      <th>Medal</th>\n",
       "      <th>Country_y</th>\n",
       "    </tr>\n",
       "  </thead>\n",
       "  <tbody>\n",
       "    <tr>\n",
       "      <th>0</th>\n",
       "      <td>Summer</td>\n",
       "      <td>1896</td>\n",
       "      <td>Athens</td>\n",
       "      <td>Aquatics</td>\n",
       "      <td>Swimming</td>\n",
       "      <td>HAJOS, Alfred</td>\n",
       "      <td>HUN</td>\n",
       "      <td>Men</td>\n",
       "      <td>100M Freestyle</td>\n",
       "      <td>Gold</td>\n",
       "      <td>Hungary</td>\n",
       "    </tr>\n",
       "    <tr>\n",
       "      <th>1</th>\n",
       "      <td>Summer</td>\n",
       "      <td>1896</td>\n",
       "      <td>Athens</td>\n",
       "      <td>Aquatics</td>\n",
       "      <td>Swimming</td>\n",
       "      <td>HERSCHMANN, Otto</td>\n",
       "      <td>AUT</td>\n",
       "      <td>Men</td>\n",
       "      <td>100M Freestyle</td>\n",
       "      <td>Silver</td>\n",
       "      <td>Austria</td>\n",
       "    </tr>\n",
       "    <tr>\n",
       "      <th>2</th>\n",
       "      <td>Summer</td>\n",
       "      <td>1896</td>\n",
       "      <td>Athens</td>\n",
       "      <td>Aquatics</td>\n",
       "      <td>Swimming</td>\n",
       "      <td>DRIVAS, Dimitrios</td>\n",
       "      <td>GRE</td>\n",
       "      <td>Men</td>\n",
       "      <td>100M Freestyle For Sailors</td>\n",
       "      <td>Bronze</td>\n",
       "      <td>Greece</td>\n",
       "    </tr>\n",
       "    <tr>\n",
       "      <th>3</th>\n",
       "      <td>Summer</td>\n",
       "      <td>1896</td>\n",
       "      <td>Athens</td>\n",
       "      <td>Aquatics</td>\n",
       "      <td>Swimming</td>\n",
       "      <td>MALOKINIS, Ioannis</td>\n",
       "      <td>GRE</td>\n",
       "      <td>Men</td>\n",
       "      <td>100M Freestyle For Sailors</td>\n",
       "      <td>Gold</td>\n",
       "      <td>Greece</td>\n",
       "    </tr>\n",
       "    <tr>\n",
       "      <th>4</th>\n",
       "      <td>Summer</td>\n",
       "      <td>1896</td>\n",
       "      <td>Athens</td>\n",
       "      <td>Aquatics</td>\n",
       "      <td>Swimming</td>\n",
       "      <td>CHASAPIS, Spiridon</td>\n",
       "      <td>GRE</td>\n",
       "      <td>Men</td>\n",
       "      <td>100M Freestyle For Sailors</td>\n",
       "      <td>Silver</td>\n",
       "      <td>Greece</td>\n",
       "    </tr>\n",
       "    <tr>\n",
       "      <th>...</th>\n",
       "      <td>...</td>\n",
       "      <td>...</td>\n",
       "      <td>...</td>\n",
       "      <td>...</td>\n",
       "      <td>...</td>\n",
       "      <td>...</td>\n",
       "      <td>...</td>\n",
       "      <td>...</td>\n",
       "      <td>...</td>\n",
       "      <td>...</td>\n",
       "      <td>...</td>\n",
       "    </tr>\n",
       "    <tr>\n",
       "      <th>36930</th>\n",
       "      <td>Winter</td>\n",
       "      <td>2014</td>\n",
       "      <td>Sochi</td>\n",
       "      <td>Skiing</td>\n",
       "      <td>Snowboard</td>\n",
       "      <td>JONES, Jenny</td>\n",
       "      <td>GBR</td>\n",
       "      <td>Women</td>\n",
       "      <td>Slopestyle</td>\n",
       "      <td>Bronze</td>\n",
       "      <td>United Kingdom</td>\n",
       "    </tr>\n",
       "    <tr>\n",
       "      <th>36931</th>\n",
       "      <td>Winter</td>\n",
       "      <td>2014</td>\n",
       "      <td>Sochi</td>\n",
       "      <td>Skiing</td>\n",
       "      <td>Snowboard</td>\n",
       "      <td>ANDERSON, Jamie</td>\n",
       "      <td>USA</td>\n",
       "      <td>Women</td>\n",
       "      <td>Slopestyle</td>\n",
       "      <td>Gold</td>\n",
       "      <td>United States</td>\n",
       "    </tr>\n",
       "    <tr>\n",
       "      <th>36932</th>\n",
       "      <td>Winter</td>\n",
       "      <td>2014</td>\n",
       "      <td>Sochi</td>\n",
       "      <td>Skiing</td>\n",
       "      <td>Snowboard</td>\n",
       "      <td>MALTAIS, Dominique</td>\n",
       "      <td>CAN</td>\n",
       "      <td>Women</td>\n",
       "      <td>Snowboard Cross</td>\n",
       "      <td>Silver</td>\n",
       "      <td>Canada</td>\n",
       "    </tr>\n",
       "    <tr>\n",
       "      <th>36933</th>\n",
       "      <td>Winter</td>\n",
       "      <td>2014</td>\n",
       "      <td>Sochi</td>\n",
       "      <td>Skiing</td>\n",
       "      <td>Snowboard</td>\n",
       "      <td>SAMKOVA, Eva</td>\n",
       "      <td>CZE</td>\n",
       "      <td>Women</td>\n",
       "      <td>Snowboard Cross</td>\n",
       "      <td>Gold</td>\n",
       "      <td>Czech Republic</td>\n",
       "    </tr>\n",
       "    <tr>\n",
       "      <th>36934</th>\n",
       "      <td>Winter</td>\n",
       "      <td>2014</td>\n",
       "      <td>Sochi</td>\n",
       "      <td>Skiing</td>\n",
       "      <td>Snowboard</td>\n",
       "      <td>TRESPEUCH, Chloe</td>\n",
       "      <td>FRA</td>\n",
       "      <td>Women</td>\n",
       "      <td>Snowboard Cross</td>\n",
       "      <td>Bronze</td>\n",
       "      <td>France</td>\n",
       "    </tr>\n",
       "  </tbody>\n",
       "</table>\n",
       "<p>36935 rows × 11 columns</p>\n",
       "</div>"
      ],
      "text/plain": [
       "      Edition  Year    City     Sport Discipline             Athlete  \\\n",
       "0      Summer  1896  Athens  Aquatics   Swimming       HAJOS, Alfred   \n",
       "1      Summer  1896  Athens  Aquatics   Swimming    HERSCHMANN, Otto   \n",
       "2      Summer  1896  Athens  Aquatics   Swimming   DRIVAS, Dimitrios   \n",
       "3      Summer  1896  Athens  Aquatics   Swimming  MALOKINIS, Ioannis   \n",
       "4      Summer  1896  Athens  Aquatics   Swimming  CHASAPIS, Spiridon   \n",
       "...       ...   ...     ...       ...        ...                 ...   \n",
       "36930  Winter  2014   Sochi    Skiing  Snowboard        JONES, Jenny   \n",
       "36931  Winter  2014   Sochi    Skiing  Snowboard     ANDERSON, Jamie   \n",
       "36932  Winter  2014   Sochi    Skiing  Snowboard  MALTAIS, Dominique   \n",
       "36933  Winter  2014   Sochi    Skiing  Snowboard        SAMKOVA, Eva   \n",
       "36934  Winter  2014   Sochi    Skiing  Snowboard    TRESPEUCH, Chloe   \n",
       "\n",
       "      Country_x Gender                       Event   Medal       Country_y  \n",
       "0           HUN    Men              100M Freestyle    Gold         Hungary  \n",
       "1           AUT    Men              100M Freestyle  Silver         Austria  \n",
       "2           GRE    Men  100M Freestyle For Sailors  Bronze          Greece  \n",
       "3           GRE    Men  100M Freestyle For Sailors    Gold          Greece  \n",
       "4           GRE    Men  100M Freestyle For Sailors  Silver          Greece  \n",
       "...         ...    ...                         ...     ...             ...  \n",
       "36930       GBR  Women                  Slopestyle  Bronze  United Kingdom  \n",
       "36931       USA  Women                  Slopestyle    Gold   United States  \n",
       "36932       CAN  Women             Snowboard Cross  Silver          Canada  \n",
       "36933       CZE  Women             Snowboard Cross    Gold  Czech Republic  \n",
       "36934       FRA  Women             Snowboard Cross  Bronze          France  \n",
       "\n",
       "[36935 rows x 11 columns]"
      ]
     },
     "execution_count": 45,
     "metadata": {},
     "output_type": "execute_result"
    }
   ],
   "source": [
    "olympics"
   ]
  },
  {
   "cell_type": "code",
   "execution_count": null,
   "metadata": {},
   "outputs": [],
   "source": []
  },
  {
   "cell_type": "markdown",
   "metadata": {},
   "source": [
    "## Data Cleaning (Part 1)"
   ]
  },
  {
   "cell_type": "markdown",
   "metadata": {},
   "source": [
    "1. If you haven´t done it yet: Assign appropriate __Column Headers__ to Country Codes (e.g. __\"Code\"__) and full Country Names (e.g. __\"Country\"__).\n",
    "2. __Remove Spaces__ from column headers in olympics and dictionary.\n",
    "3. For some Country Codes, there is no corresponding __full Country Name__ available (e.g. for \"URS\") -> __missing values__ in olympics. Identify these Country Codes and search the Web for the full Country Names. __Replace__ missing values! (Alternatively, you can find a Solution for this at the end of this Notebook!) "
   ]
  },
  {
   "cell_type": "code",
   "execution_count": 46,
   "metadata": {},
   "outputs": [
    {
     "data": {
      "text/html": [
       "<div>\n",
       "<style scoped>\n",
       "    .dataframe tbody tr th:only-of-type {\n",
       "        vertical-align: middle;\n",
       "    }\n",
       "\n",
       "    .dataframe tbody tr th {\n",
       "        vertical-align: top;\n",
       "    }\n",
       "\n",
       "    .dataframe thead th {\n",
       "        text-align: right;\n",
       "    }\n",
       "</style>\n",
       "<table border=\"1\" class=\"dataframe\">\n",
       "  <thead>\n",
       "    <tr style=\"text-align: right;\">\n",
       "      <th></th>\n",
       "      <th>Edition</th>\n",
       "      <th>Year</th>\n",
       "      <th>City</th>\n",
       "      <th>Sport</th>\n",
       "      <th>Discipline</th>\n",
       "      <th>Athlete</th>\n",
       "      <th>Country_x</th>\n",
       "      <th>Gender</th>\n",
       "      <th>Event</th>\n",
       "      <th>Medal</th>\n",
       "      <th>Country_y</th>\n",
       "    </tr>\n",
       "  </thead>\n",
       "  <tbody>\n",
       "    <tr>\n",
       "      <th>0</th>\n",
       "      <td>Summer</td>\n",
       "      <td>1896</td>\n",
       "      <td>Athens</td>\n",
       "      <td>Aquatics</td>\n",
       "      <td>Swimming</td>\n",
       "      <td>HAJOS, Alfred</td>\n",
       "      <td>HUN</td>\n",
       "      <td>Men</td>\n",
       "      <td>100M Freestyle</td>\n",
       "      <td>Gold</td>\n",
       "      <td>Hungary</td>\n",
       "    </tr>\n",
       "    <tr>\n",
       "      <th>1</th>\n",
       "      <td>Summer</td>\n",
       "      <td>1896</td>\n",
       "      <td>Athens</td>\n",
       "      <td>Aquatics</td>\n",
       "      <td>Swimming</td>\n",
       "      <td>HERSCHMANN, Otto</td>\n",
       "      <td>AUT</td>\n",
       "      <td>Men</td>\n",
       "      <td>100M Freestyle</td>\n",
       "      <td>Silver</td>\n",
       "      <td>Austria</td>\n",
       "    </tr>\n",
       "    <tr>\n",
       "      <th>2</th>\n",
       "      <td>Summer</td>\n",
       "      <td>1896</td>\n",
       "      <td>Athens</td>\n",
       "      <td>Aquatics</td>\n",
       "      <td>Swimming</td>\n",
       "      <td>DRIVAS, Dimitrios</td>\n",
       "      <td>GRE</td>\n",
       "      <td>Men</td>\n",
       "      <td>100M Freestyle For Sailors</td>\n",
       "      <td>Bronze</td>\n",
       "      <td>Greece</td>\n",
       "    </tr>\n",
       "    <tr>\n",
       "      <th>3</th>\n",
       "      <td>Summer</td>\n",
       "      <td>1896</td>\n",
       "      <td>Athens</td>\n",
       "      <td>Aquatics</td>\n",
       "      <td>Swimming</td>\n",
       "      <td>MALOKINIS, Ioannis</td>\n",
       "      <td>GRE</td>\n",
       "      <td>Men</td>\n",
       "      <td>100M Freestyle For Sailors</td>\n",
       "      <td>Gold</td>\n",
       "      <td>Greece</td>\n",
       "    </tr>\n",
       "    <tr>\n",
       "      <th>4</th>\n",
       "      <td>Summer</td>\n",
       "      <td>1896</td>\n",
       "      <td>Athens</td>\n",
       "      <td>Aquatics</td>\n",
       "      <td>Swimming</td>\n",
       "      <td>CHASAPIS, Spiridon</td>\n",
       "      <td>GRE</td>\n",
       "      <td>Men</td>\n",
       "      <td>100M Freestyle For Sailors</td>\n",
       "      <td>Silver</td>\n",
       "      <td>Greece</td>\n",
       "    </tr>\n",
       "    <tr>\n",
       "      <th>...</th>\n",
       "      <td>...</td>\n",
       "      <td>...</td>\n",
       "      <td>...</td>\n",
       "      <td>...</td>\n",
       "      <td>...</td>\n",
       "      <td>...</td>\n",
       "      <td>...</td>\n",
       "      <td>...</td>\n",
       "      <td>...</td>\n",
       "      <td>...</td>\n",
       "      <td>...</td>\n",
       "    </tr>\n",
       "    <tr>\n",
       "      <th>36930</th>\n",
       "      <td>Winter</td>\n",
       "      <td>2014</td>\n",
       "      <td>Sochi</td>\n",
       "      <td>Skiing</td>\n",
       "      <td>Snowboard</td>\n",
       "      <td>JONES, Jenny</td>\n",
       "      <td>GBR</td>\n",
       "      <td>Women</td>\n",
       "      <td>Slopestyle</td>\n",
       "      <td>Bronze</td>\n",
       "      <td>United Kingdom</td>\n",
       "    </tr>\n",
       "    <tr>\n",
       "      <th>36931</th>\n",
       "      <td>Winter</td>\n",
       "      <td>2014</td>\n",
       "      <td>Sochi</td>\n",
       "      <td>Skiing</td>\n",
       "      <td>Snowboard</td>\n",
       "      <td>ANDERSON, Jamie</td>\n",
       "      <td>USA</td>\n",
       "      <td>Women</td>\n",
       "      <td>Slopestyle</td>\n",
       "      <td>Gold</td>\n",
       "      <td>United States</td>\n",
       "    </tr>\n",
       "    <tr>\n",
       "      <th>36932</th>\n",
       "      <td>Winter</td>\n",
       "      <td>2014</td>\n",
       "      <td>Sochi</td>\n",
       "      <td>Skiing</td>\n",
       "      <td>Snowboard</td>\n",
       "      <td>MALTAIS, Dominique</td>\n",
       "      <td>CAN</td>\n",
       "      <td>Women</td>\n",
       "      <td>Snowboard Cross</td>\n",
       "      <td>Silver</td>\n",
       "      <td>Canada</td>\n",
       "    </tr>\n",
       "    <tr>\n",
       "      <th>36933</th>\n",
       "      <td>Winter</td>\n",
       "      <td>2014</td>\n",
       "      <td>Sochi</td>\n",
       "      <td>Skiing</td>\n",
       "      <td>Snowboard</td>\n",
       "      <td>SAMKOVA, Eva</td>\n",
       "      <td>CZE</td>\n",
       "      <td>Women</td>\n",
       "      <td>Snowboard Cross</td>\n",
       "      <td>Gold</td>\n",
       "      <td>Czech Republic</td>\n",
       "    </tr>\n",
       "    <tr>\n",
       "      <th>36934</th>\n",
       "      <td>Winter</td>\n",
       "      <td>2014</td>\n",
       "      <td>Sochi</td>\n",
       "      <td>Skiing</td>\n",
       "      <td>Snowboard</td>\n",
       "      <td>TRESPEUCH, Chloe</td>\n",
       "      <td>FRA</td>\n",
       "      <td>Women</td>\n",
       "      <td>Snowboard Cross</td>\n",
       "      <td>Bronze</td>\n",
       "      <td>France</td>\n",
       "    </tr>\n",
       "  </tbody>\n",
       "</table>\n",
       "<p>36935 rows × 11 columns</p>\n",
       "</div>"
      ],
      "text/plain": [
       "      Edition  Year    City     Sport Discipline             Athlete  \\\n",
       "0      Summer  1896  Athens  Aquatics   Swimming       HAJOS, Alfred   \n",
       "1      Summer  1896  Athens  Aquatics   Swimming    HERSCHMANN, Otto   \n",
       "2      Summer  1896  Athens  Aquatics   Swimming   DRIVAS, Dimitrios   \n",
       "3      Summer  1896  Athens  Aquatics   Swimming  MALOKINIS, Ioannis   \n",
       "4      Summer  1896  Athens  Aquatics   Swimming  CHASAPIS, Spiridon   \n",
       "...       ...   ...     ...       ...        ...                 ...   \n",
       "36930  Winter  2014   Sochi    Skiing  Snowboard        JONES, Jenny   \n",
       "36931  Winter  2014   Sochi    Skiing  Snowboard     ANDERSON, Jamie   \n",
       "36932  Winter  2014   Sochi    Skiing  Snowboard  MALTAIS, Dominique   \n",
       "36933  Winter  2014   Sochi    Skiing  Snowboard        SAMKOVA, Eva   \n",
       "36934  Winter  2014   Sochi    Skiing  Snowboard    TRESPEUCH, Chloe   \n",
       "\n",
       "      Country_x Gender                       Event   Medal       Country_y  \n",
       "0           HUN    Men              100M Freestyle    Gold         Hungary  \n",
       "1           AUT    Men              100M Freestyle  Silver         Austria  \n",
       "2           GRE    Men  100M Freestyle For Sailors  Bronze          Greece  \n",
       "3           GRE    Men  100M Freestyle For Sailors    Gold          Greece  \n",
       "4           GRE    Men  100M Freestyle For Sailors  Silver          Greece  \n",
       "...         ...    ...                         ...     ...             ...  \n",
       "36930       GBR  Women                  Slopestyle  Bronze  United Kingdom  \n",
       "36931       USA  Women                  Slopestyle    Gold   United States  \n",
       "36932       CAN  Women             Snowboard Cross  Silver          Canada  \n",
       "36933       CZE  Women             Snowboard Cross    Gold  Czech Republic  \n",
       "36934       FRA  Women             Snowboard Cross  Bronze          France  \n",
       "\n",
       "[36935 rows x 11 columns]"
      ]
     },
     "execution_count": 46,
     "metadata": {},
     "output_type": "execute_result"
    }
   ],
   "source": [
    "olympics"
   ]
  },
  {
   "cell_type": "code",
   "execution_count": 47,
   "metadata": {},
   "outputs": [],
   "source": [
    "olympics.rename(columns = {\"Country_x\":\"Code\", \"Country_y\": \"Country\"}, inplace = True)"
   ]
  },
  {
   "cell_type": "code",
   "execution_count": 48,
   "metadata": {},
   "outputs": [
    {
     "data": {
      "text/html": [
       "<div>\n",
       "<style scoped>\n",
       "    .dataframe tbody tr th:only-of-type {\n",
       "        vertical-align: middle;\n",
       "    }\n",
       "\n",
       "    .dataframe tbody tr th {\n",
       "        vertical-align: top;\n",
       "    }\n",
       "\n",
       "    .dataframe thead th {\n",
       "        text-align: right;\n",
       "    }\n",
       "</style>\n",
       "<table border=\"1\" class=\"dataframe\">\n",
       "  <thead>\n",
       "    <tr style=\"text-align: right;\">\n",
       "      <th></th>\n",
       "      <th>Country</th>\n",
       "      <th>Code</th>\n",
       "      <th>Population</th>\n",
       "      <th>GDP</th>\n",
       "    </tr>\n",
       "  </thead>\n",
       "  <tbody>\n",
       "    <tr>\n",
       "      <th>0</th>\n",
       "      <td>Afghanistan</td>\n",
       "      <td>AFG</td>\n",
       "      <td>32526562.0</td>\n",
       "      <td>594.323081</td>\n",
       "    </tr>\n",
       "    <tr>\n",
       "      <th>1</th>\n",
       "      <td>Albania</td>\n",
       "      <td>ALB</td>\n",
       "      <td>2889167.0</td>\n",
       "      <td>3945.217582</td>\n",
       "    </tr>\n",
       "    <tr>\n",
       "      <th>2</th>\n",
       "      <td>Algeria</td>\n",
       "      <td>ALG</td>\n",
       "      <td>39666519.0</td>\n",
       "      <td>4206.031232</td>\n",
       "    </tr>\n",
       "    <tr>\n",
       "      <th>3</th>\n",
       "      <td>American Samoa*</td>\n",
       "      <td>ASA</td>\n",
       "      <td>55538.0</td>\n",
       "      <td>NaN</td>\n",
       "    </tr>\n",
       "    <tr>\n",
       "      <th>4</th>\n",
       "      <td>Andorra</td>\n",
       "      <td>AND</td>\n",
       "      <td>70473.0</td>\n",
       "      <td>NaN</td>\n",
       "    </tr>\n",
       "    <tr>\n",
       "      <th>...</th>\n",
       "      <td>...</td>\n",
       "      <td>...</td>\n",
       "      <td>...</td>\n",
       "      <td>...</td>\n",
       "    </tr>\n",
       "    <tr>\n",
       "      <th>196</th>\n",
       "      <td>Vietnam</td>\n",
       "      <td>VIE</td>\n",
       "      <td>91703800.0</td>\n",
       "      <td>2111.138024</td>\n",
       "    </tr>\n",
       "    <tr>\n",
       "      <th>197</th>\n",
       "      <td>Virgin Islands*</td>\n",
       "      <td>ISV</td>\n",
       "      <td>103574.0</td>\n",
       "      <td>NaN</td>\n",
       "    </tr>\n",
       "    <tr>\n",
       "      <th>198</th>\n",
       "      <td>Yemen</td>\n",
       "      <td>YEM</td>\n",
       "      <td>26832215.0</td>\n",
       "      <td>1406.291651</td>\n",
       "    </tr>\n",
       "    <tr>\n",
       "      <th>199</th>\n",
       "      <td>Zambia</td>\n",
       "      <td>ZAM</td>\n",
       "      <td>16211767.0</td>\n",
       "      <td>1304.879014</td>\n",
       "    </tr>\n",
       "    <tr>\n",
       "      <th>200</th>\n",
       "      <td>Zimbabwe</td>\n",
       "      <td>ZIM</td>\n",
       "      <td>15602751.0</td>\n",
       "      <td>924.143819</td>\n",
       "    </tr>\n",
       "  </tbody>\n",
       "</table>\n",
       "<p>201 rows × 4 columns</p>\n",
       "</div>"
      ],
      "text/plain": [
       "             Country Code  Population          GDP\n",
       "0        Afghanistan  AFG  32526562.0   594.323081\n",
       "1            Albania  ALB   2889167.0  3945.217582\n",
       "2            Algeria  ALG  39666519.0  4206.031232\n",
       "3    American Samoa*  ASA     55538.0          NaN\n",
       "4            Andorra  AND     70473.0          NaN\n",
       "..               ...  ...         ...          ...\n",
       "196          Vietnam  VIE  91703800.0  2111.138024\n",
       "197  Virgin Islands*  ISV    103574.0          NaN\n",
       "198            Yemen  YEM  26832215.0  1406.291651\n",
       "199           Zambia  ZAM  16211767.0  1304.879014\n",
       "200         Zimbabwe  ZIM  15602751.0   924.143819\n",
       "\n",
       "[201 rows x 4 columns]"
      ]
     },
     "execution_count": 48,
     "metadata": {},
     "output_type": "execute_result"
    }
   ],
   "source": [
    "dic"
   ]
  },
  {
   "cell_type": "code",
   "execution_count": 49,
   "metadata": {},
   "outputs": [],
   "source": [
    "dic.rename(columns = {\"GDP per Capita\":\"GDP\"}, inplace= True)"
   ]
  },
  {
   "cell_type": "code",
   "execution_count": 50,
   "metadata": {},
   "outputs": [
    {
     "name": "stdout",
     "output_type": "stream",
     "text": [
      "<class 'pandas.core.frame.DataFrame'>\n",
      "RangeIndex: 36935 entries, 0 to 36934\n",
      "Data columns (total 11 columns):\n",
      " #   Column      Non-Null Count  Dtype \n",
      "---  ------      --------------  ----- \n",
      " 0   Edition     36935 non-null  object\n",
      " 1   Year        36935 non-null  int64 \n",
      " 2   City        36935 non-null  object\n",
      " 3   Sport       36935 non-null  object\n",
      " 4   Discipline  36935 non-null  object\n",
      " 5   Athlete     36935 non-null  object\n",
      " 6   Code        36931 non-null  object\n",
      " 7   Gender      36935 non-null  object\n",
      " 8   Event       36935 non-null  object\n",
      " 9   Medal       36935 non-null  object\n",
      " 10  Country     30568 non-null  object\n",
      "dtypes: int64(1), object(10)\n",
      "memory usage: 3.1+ MB\n"
     ]
    }
   ],
   "source": [
    "olympics.info()"
   ]
  },
  {
   "cell_type": "code",
   "execution_count": 51,
   "metadata": {},
   "outputs": [
    {
     "data": {
      "text/html": [
       "<div>\n",
       "<style scoped>\n",
       "    .dataframe tbody tr th:only-of-type {\n",
       "        vertical-align: middle;\n",
       "    }\n",
       "\n",
       "    .dataframe tbody tr th {\n",
       "        vertical-align: top;\n",
       "    }\n",
       "\n",
       "    .dataframe thead th {\n",
       "        text-align: right;\n",
       "    }\n",
       "</style>\n",
       "<table border=\"1\" class=\"dataframe\">\n",
       "  <thead>\n",
       "    <tr style=\"text-align: right;\">\n",
       "      <th></th>\n",
       "      <th>Edition</th>\n",
       "      <th>Year</th>\n",
       "      <th>City</th>\n",
       "      <th>Sport</th>\n",
       "      <th>Discipline</th>\n",
       "      <th>Athlete</th>\n",
       "      <th>Code</th>\n",
       "      <th>Gender</th>\n",
       "      <th>Event</th>\n",
       "      <th>Medal</th>\n",
       "      <th>Country</th>\n",
       "    </tr>\n",
       "  </thead>\n",
       "  <tbody>\n",
       "    <tr>\n",
       "      <th>132</th>\n",
       "      <td>Summer</td>\n",
       "      <td>1896</td>\n",
       "      <td>Athens</td>\n",
       "      <td>Tennis</td>\n",
       "      <td>Tennis</td>\n",
       "      <td>FLACK, Edwin</td>\n",
       "      <td>ZZX</td>\n",
       "      <td>Men</td>\n",
       "      <td>Doubles</td>\n",
       "      <td>Bronze</td>\n",
       "      <td>NaN</td>\n",
       "    </tr>\n",
       "    <tr>\n",
       "      <th>133</th>\n",
       "      <td>Summer</td>\n",
       "      <td>1896</td>\n",
       "      <td>Athens</td>\n",
       "      <td>Tennis</td>\n",
       "      <td>Tennis</td>\n",
       "      <td>ROBERTSON, George Stuart</td>\n",
       "      <td>ZZX</td>\n",
       "      <td>Men</td>\n",
       "      <td>Doubles</td>\n",
       "      <td>Bronze</td>\n",
       "      <td>NaN</td>\n",
       "    </tr>\n",
       "    <tr>\n",
       "      <th>134</th>\n",
       "      <td>Summer</td>\n",
       "      <td>1896</td>\n",
       "      <td>Athens</td>\n",
       "      <td>Tennis</td>\n",
       "      <td>Tennis</td>\n",
       "      <td>BOLAND, John</td>\n",
       "      <td>ZZX</td>\n",
       "      <td>Men</td>\n",
       "      <td>Doubles</td>\n",
       "      <td>Gold</td>\n",
       "      <td>NaN</td>\n",
       "    </tr>\n",
       "    <tr>\n",
       "      <th>135</th>\n",
       "      <td>Summer</td>\n",
       "      <td>1896</td>\n",
       "      <td>Athens</td>\n",
       "      <td>Tennis</td>\n",
       "      <td>Tennis</td>\n",
       "      <td>TRAUN, Friedrich</td>\n",
       "      <td>ZZX</td>\n",
       "      <td>Men</td>\n",
       "      <td>Doubles</td>\n",
       "      <td>Gold</td>\n",
       "      <td>NaN</td>\n",
       "    </tr>\n",
       "    <tr>\n",
       "      <th>136</th>\n",
       "      <td>Summer</td>\n",
       "      <td>1896</td>\n",
       "      <td>Athens</td>\n",
       "      <td>Tennis</td>\n",
       "      <td>Tennis</td>\n",
       "      <td>KASDAGLIS, Dionysios</td>\n",
       "      <td>ZZX</td>\n",
       "      <td>Men</td>\n",
       "      <td>Doubles</td>\n",
       "      <td>Silver</td>\n",
       "      <td>NaN</td>\n",
       "    </tr>\n",
       "    <tr>\n",
       "      <th>...</th>\n",
       "      <td>...</td>\n",
       "      <td>...</td>\n",
       "      <td>...</td>\n",
       "      <td>...</td>\n",
       "      <td>...</td>\n",
       "      <td>...</td>\n",
       "      <td>...</td>\n",
       "      <td>...</td>\n",
       "      <td>...</td>\n",
       "      <td>...</td>\n",
       "      <td>...</td>\n",
       "    </tr>\n",
       "    <tr>\n",
       "      <th>33961</th>\n",
       "      <td>Winter</td>\n",
       "      <td>1992</td>\n",
       "      <td>Albertville</td>\n",
       "      <td>Skiing</td>\n",
       "      <td>Freestyle Skiing</td>\n",
       "      <td>KOZHEVNIKOVA, Yelizaveta</td>\n",
       "      <td>EUN</td>\n",
       "      <td>Women</td>\n",
       "      <td>Moguls</td>\n",
       "      <td>Silver</td>\n",
       "      <td>NaN</td>\n",
       "    </tr>\n",
       "    <tr>\n",
       "      <th>33977</th>\n",
       "      <td>Winter</td>\n",
       "      <td>1992</td>\n",
       "      <td>Albertville</td>\n",
       "      <td>Skiing</td>\n",
       "      <td>Ski Jumping</td>\n",
       "      <td>GODER, Tomas</td>\n",
       "      <td>TCH</td>\n",
       "      <td>Men</td>\n",
       "      <td>K120 Team (90M)</td>\n",
       "      <td>Bronze</td>\n",
       "      <td>NaN</td>\n",
       "    </tr>\n",
       "    <tr>\n",
       "      <th>33978</th>\n",
       "      <td>Winter</td>\n",
       "      <td>1992</td>\n",
       "      <td>Albertville</td>\n",
       "      <td>Skiing</td>\n",
       "      <td>Ski Jumping</td>\n",
       "      <td>JEZ, Frantisek</td>\n",
       "      <td>TCH</td>\n",
       "      <td>Men</td>\n",
       "      <td>K120 Team (90M)</td>\n",
       "      <td>Bronze</td>\n",
       "      <td>NaN</td>\n",
       "    </tr>\n",
       "    <tr>\n",
       "      <th>33979</th>\n",
       "      <td>Winter</td>\n",
       "      <td>1992</td>\n",
       "      <td>Albertville</td>\n",
       "      <td>Skiing</td>\n",
       "      <td>Ski Jumping</td>\n",
       "      <td>PARMA, Jiri</td>\n",
       "      <td>TCH</td>\n",
       "      <td>Men</td>\n",
       "      <td>K120 Team (90M)</td>\n",
       "      <td>Bronze</td>\n",
       "      <td>NaN</td>\n",
       "    </tr>\n",
       "    <tr>\n",
       "      <th>33980</th>\n",
       "      <td>Winter</td>\n",
       "      <td>1992</td>\n",
       "      <td>Albertville</td>\n",
       "      <td>Skiing</td>\n",
       "      <td>Ski Jumping</td>\n",
       "      <td>SAKALA, Jaroslav</td>\n",
       "      <td>TCH</td>\n",
       "      <td>Men</td>\n",
       "      <td>K120 Team (90M)</td>\n",
       "      <td>Bronze</td>\n",
       "      <td>NaN</td>\n",
       "    </tr>\n",
       "  </tbody>\n",
       "</table>\n",
       "<p>6367 rows × 11 columns</p>\n",
       "</div>"
      ],
      "text/plain": [
       "      Edition  Year         City   Sport        Discipline  \\\n",
       "132    Summer  1896       Athens  Tennis            Tennis   \n",
       "133    Summer  1896       Athens  Tennis            Tennis   \n",
       "134    Summer  1896       Athens  Tennis            Tennis   \n",
       "135    Summer  1896       Athens  Tennis            Tennis   \n",
       "136    Summer  1896       Athens  Tennis            Tennis   \n",
       "...       ...   ...          ...     ...               ...   \n",
       "33961  Winter  1992  Albertville  Skiing  Freestyle Skiing   \n",
       "33977  Winter  1992  Albertville  Skiing       Ski Jumping   \n",
       "33978  Winter  1992  Albertville  Skiing       Ski Jumping   \n",
       "33979  Winter  1992  Albertville  Skiing       Ski Jumping   \n",
       "33980  Winter  1992  Albertville  Skiing       Ski Jumping   \n",
       "\n",
       "                        Athlete Code Gender            Event   Medal Country  \n",
       "132                FLACK, Edwin  ZZX    Men          Doubles  Bronze     NaN  \n",
       "133    ROBERTSON, George Stuart  ZZX    Men          Doubles  Bronze     NaN  \n",
       "134                BOLAND, John  ZZX    Men          Doubles    Gold     NaN  \n",
       "135            TRAUN, Friedrich  ZZX    Men          Doubles    Gold     NaN  \n",
       "136        KASDAGLIS, Dionysios  ZZX    Men          Doubles  Silver     NaN  \n",
       "...                         ...  ...    ...              ...     ...     ...  \n",
       "33961  KOZHEVNIKOVA, Yelizaveta  EUN  Women           Moguls  Silver     NaN  \n",
       "33977              GODER, Tomas  TCH    Men  K120 Team (90M)  Bronze     NaN  \n",
       "33978            JEZ, Frantisek  TCH    Men  K120 Team (90M)  Bronze     NaN  \n",
       "33979               PARMA, Jiri  TCH    Men  K120 Team (90M)  Bronze     NaN  \n",
       "33980          SAKALA, Jaroslav  TCH    Men  K120 Team (90M)  Bronze     NaN  \n",
       "\n",
       "[6367 rows x 11 columns]"
      ]
     },
     "execution_count": 51,
     "metadata": {},
     "output_type": "execute_result"
    }
   ],
   "source": [
    "olympics.loc[olympics.Country.isnull()]"
   ]
  },
  {
   "cell_type": "code",
   "execution_count": 29,
   "metadata": {},
   "outputs": [
    {
     "data": {
      "text/plain": [
       "Int64Index([  132,   133,   134,   135,   136,   137,   257,   258,   259,\n",
       "              260,\n",
       "            ...\n",
       "            33939, 33947, 33949, 33953, 33954, 33961, 33977, 33978, 33979,\n",
       "            33980],\n",
       "           dtype='int64', length=6367)"
      ]
     },
     "execution_count": 29,
     "metadata": {},
     "output_type": "execute_result"
    }
   ],
   "source": [
    "missing_C_index = olympics.loc[olympics.Country.isnull()].index\n",
    "missing_C_index"
   ]
  },
  {
   "cell_type": "code",
   "execution_count": 52,
   "metadata": {},
   "outputs": [
    {
     "data": {
      "text/plain": [
       "URS    2489\n",
       "GDR     987\n",
       "ROU     642\n",
       "FRG     584\n",
       "TCH     487\n",
       "YUG     442\n",
       "EUN     283\n",
       "EUA     281\n",
       "ZZX      48\n",
       "SRB      31\n",
       "ANZ      29\n",
       "RU1      17\n",
       "MNE      14\n",
       "TTO      10\n",
       "BOH       7\n",
       "BWI       5\n",
       "SGP       4\n",
       "IOP       3\n",
       "Name: Code, dtype: int64"
      ]
     },
     "execution_count": 52,
     "metadata": {},
     "output_type": "execute_result"
    }
   ],
   "source": [
    "olympics.loc[olympics.Country.isnull()].Code.value_counts()"
   ]
  },
  {
   "cell_type": "code",
   "execution_count": 53,
   "metadata": {},
   "outputs": [
    {
     "data": {
      "text/plain": [
       "Index(['URS', 'GDR', 'ROU', 'FRG', 'TCH', 'YUG', 'EUN', 'EUA', 'ZZX', 'SRB',\n",
       "       'ANZ', 'RU1', 'MNE', 'TTO', 'BOH', 'BWI', 'SGP', 'IOP'],\n",
       "      dtype='object')"
      ]
     },
     "execution_count": 53,
     "metadata": {},
     "output_type": "execute_result"
    }
   ],
   "source": [
    "old_c = olympics.loc[olympics.Country.isnull(), :].Code.value_counts().index\n",
    "old_c"
   ]
  },
  {
   "cell_type": "code",
   "execution_count": 54,
   "metadata": {},
   "outputs": [],
   "source": [
    "mapper = pd.Series(index=old_c, name = \"Country\", data = [\"Soviet Union\", \"East Germany\", \"Romania\", \"West Germany\", \"Czechoslovakia\",\n",
    "                               \"Yugoslavia\", \"Unified Team\", \"Unified Team of Germany\", \"Mixed teams\", \"Serbia\",\n",
    "                              \"Australasia\", \"Russian Empire\", \"Montenegro\", \"Trinidad and Tobago\", \"Bohemia\", \n",
    "                              \"West Indies Federation\", \"Singapore\", \"Independent Olympic Participants\"])"
   ]
  },
  {
   "cell_type": "code",
   "execution_count": 55,
   "metadata": {},
   "outputs": [
    {
     "data": {
      "text/plain": [
       "URS                        Soviet Union\n",
       "GDR                        East Germany\n",
       "ROU                             Romania\n",
       "FRG                        West Germany\n",
       "TCH                      Czechoslovakia\n",
       "YUG                          Yugoslavia\n",
       "EUN                        Unified Team\n",
       "EUA             Unified Team of Germany\n",
       "ZZX                         Mixed teams\n",
       "SRB                              Serbia\n",
       "ANZ                         Australasia\n",
       "RU1                      Russian Empire\n",
       "MNE                          Montenegro\n",
       "TTO                 Trinidad and Tobago\n",
       "BOH                             Bohemia\n",
       "BWI              West Indies Federation\n",
       "SGP                           Singapore\n",
       "IOP    Independent Olympic Participants\n",
       "Name: Country, dtype: object"
      ]
     },
     "execution_count": 55,
     "metadata": {},
     "output_type": "execute_result"
    }
   ],
   "source": [
    "mapper"
   ]
  },
  {
   "cell_type": "code",
   "execution_count": 56,
   "metadata": {},
   "outputs": [
    {
     "data": {
      "text/plain": [
       "132         Mixed teams\n",
       "133         Mixed teams\n",
       "134         Mixed teams\n",
       "135         Mixed teams\n",
       "136         Mixed teams\n",
       "              ...      \n",
       "33961      Unified Team\n",
       "33977    Czechoslovakia\n",
       "33978    Czechoslovakia\n",
       "33979    Czechoslovakia\n",
       "33980    Czechoslovakia\n",
       "Name: Code, Length: 6367, dtype: object"
      ]
     },
     "execution_count": 56,
     "metadata": {},
     "output_type": "execute_result"
    }
   ],
   "source": [
    "olympics.loc[missing_C_index, \"Code\"].map(mapper)"
   ]
  },
  {
   "cell_type": "code",
   "execution_count": 57,
   "metadata": {},
   "outputs": [],
   "source": [
    "olympics.Country.fillna(olympics.Code.map(mapper), inplace = True)"
   ]
  },
  {
   "cell_type": "code",
   "execution_count": 58,
   "metadata": {},
   "outputs": [
    {
     "data": {
      "text/html": [
       "<div>\n",
       "<style scoped>\n",
       "    .dataframe tbody tr th:only-of-type {\n",
       "        vertical-align: middle;\n",
       "    }\n",
       "\n",
       "    .dataframe tbody tr th {\n",
       "        vertical-align: top;\n",
       "    }\n",
       "\n",
       "    .dataframe thead th {\n",
       "        text-align: right;\n",
       "    }\n",
       "</style>\n",
       "<table border=\"1\" class=\"dataframe\">\n",
       "  <thead>\n",
       "    <tr style=\"text-align: right;\">\n",
       "      <th></th>\n",
       "      <th>Edition</th>\n",
       "      <th>Year</th>\n",
       "      <th>City</th>\n",
       "      <th>Sport</th>\n",
       "      <th>Discipline</th>\n",
       "      <th>Athlete</th>\n",
       "      <th>Code</th>\n",
       "      <th>Gender</th>\n",
       "      <th>Event</th>\n",
       "      <th>Medal</th>\n",
       "      <th>Country</th>\n",
       "    </tr>\n",
       "  </thead>\n",
       "  <tbody>\n",
       "    <tr>\n",
       "      <th>132</th>\n",
       "      <td>Summer</td>\n",
       "      <td>1896</td>\n",
       "      <td>Athens</td>\n",
       "      <td>Tennis</td>\n",
       "      <td>Tennis</td>\n",
       "      <td>FLACK, Edwin</td>\n",
       "      <td>ZZX</td>\n",
       "      <td>Men</td>\n",
       "      <td>Doubles</td>\n",
       "      <td>Bronze</td>\n",
       "      <td>Mixed teams</td>\n",
       "    </tr>\n",
       "    <tr>\n",
       "      <th>133</th>\n",
       "      <td>Summer</td>\n",
       "      <td>1896</td>\n",
       "      <td>Athens</td>\n",
       "      <td>Tennis</td>\n",
       "      <td>Tennis</td>\n",
       "      <td>ROBERTSON, George Stuart</td>\n",
       "      <td>ZZX</td>\n",
       "      <td>Men</td>\n",
       "      <td>Doubles</td>\n",
       "      <td>Bronze</td>\n",
       "      <td>Mixed teams</td>\n",
       "    </tr>\n",
       "    <tr>\n",
       "      <th>134</th>\n",
       "      <td>Summer</td>\n",
       "      <td>1896</td>\n",
       "      <td>Athens</td>\n",
       "      <td>Tennis</td>\n",
       "      <td>Tennis</td>\n",
       "      <td>BOLAND, John</td>\n",
       "      <td>ZZX</td>\n",
       "      <td>Men</td>\n",
       "      <td>Doubles</td>\n",
       "      <td>Gold</td>\n",
       "      <td>Mixed teams</td>\n",
       "    </tr>\n",
       "    <tr>\n",
       "      <th>135</th>\n",
       "      <td>Summer</td>\n",
       "      <td>1896</td>\n",
       "      <td>Athens</td>\n",
       "      <td>Tennis</td>\n",
       "      <td>Tennis</td>\n",
       "      <td>TRAUN, Friedrich</td>\n",
       "      <td>ZZX</td>\n",
       "      <td>Men</td>\n",
       "      <td>Doubles</td>\n",
       "      <td>Gold</td>\n",
       "      <td>Mixed teams</td>\n",
       "    </tr>\n",
       "    <tr>\n",
       "      <th>136</th>\n",
       "      <td>Summer</td>\n",
       "      <td>1896</td>\n",
       "      <td>Athens</td>\n",
       "      <td>Tennis</td>\n",
       "      <td>Tennis</td>\n",
       "      <td>KASDAGLIS, Dionysios</td>\n",
       "      <td>ZZX</td>\n",
       "      <td>Men</td>\n",
       "      <td>Doubles</td>\n",
       "      <td>Silver</td>\n",
       "      <td>Mixed teams</td>\n",
       "    </tr>\n",
       "    <tr>\n",
       "      <th>...</th>\n",
       "      <td>...</td>\n",
       "      <td>...</td>\n",
       "      <td>...</td>\n",
       "      <td>...</td>\n",
       "      <td>...</td>\n",
       "      <td>...</td>\n",
       "      <td>...</td>\n",
       "      <td>...</td>\n",
       "      <td>...</td>\n",
       "      <td>...</td>\n",
       "      <td>...</td>\n",
       "    </tr>\n",
       "    <tr>\n",
       "      <th>33961</th>\n",
       "      <td>Winter</td>\n",
       "      <td>1992</td>\n",
       "      <td>Albertville</td>\n",
       "      <td>Skiing</td>\n",
       "      <td>Freestyle Skiing</td>\n",
       "      <td>KOZHEVNIKOVA, Yelizaveta</td>\n",
       "      <td>EUN</td>\n",
       "      <td>Women</td>\n",
       "      <td>Moguls</td>\n",
       "      <td>Silver</td>\n",
       "      <td>Unified Team</td>\n",
       "    </tr>\n",
       "    <tr>\n",
       "      <th>33977</th>\n",
       "      <td>Winter</td>\n",
       "      <td>1992</td>\n",
       "      <td>Albertville</td>\n",
       "      <td>Skiing</td>\n",
       "      <td>Ski Jumping</td>\n",
       "      <td>GODER, Tomas</td>\n",
       "      <td>TCH</td>\n",
       "      <td>Men</td>\n",
       "      <td>K120 Team (90M)</td>\n",
       "      <td>Bronze</td>\n",
       "      <td>Czechoslovakia</td>\n",
       "    </tr>\n",
       "    <tr>\n",
       "      <th>33978</th>\n",
       "      <td>Winter</td>\n",
       "      <td>1992</td>\n",
       "      <td>Albertville</td>\n",
       "      <td>Skiing</td>\n",
       "      <td>Ski Jumping</td>\n",
       "      <td>JEZ, Frantisek</td>\n",
       "      <td>TCH</td>\n",
       "      <td>Men</td>\n",
       "      <td>K120 Team (90M)</td>\n",
       "      <td>Bronze</td>\n",
       "      <td>Czechoslovakia</td>\n",
       "    </tr>\n",
       "    <tr>\n",
       "      <th>33979</th>\n",
       "      <td>Winter</td>\n",
       "      <td>1992</td>\n",
       "      <td>Albertville</td>\n",
       "      <td>Skiing</td>\n",
       "      <td>Ski Jumping</td>\n",
       "      <td>PARMA, Jiri</td>\n",
       "      <td>TCH</td>\n",
       "      <td>Men</td>\n",
       "      <td>K120 Team (90M)</td>\n",
       "      <td>Bronze</td>\n",
       "      <td>Czechoslovakia</td>\n",
       "    </tr>\n",
       "    <tr>\n",
       "      <th>33980</th>\n",
       "      <td>Winter</td>\n",
       "      <td>1992</td>\n",
       "      <td>Albertville</td>\n",
       "      <td>Skiing</td>\n",
       "      <td>Ski Jumping</td>\n",
       "      <td>SAKALA, Jaroslav</td>\n",
       "      <td>TCH</td>\n",
       "      <td>Men</td>\n",
       "      <td>K120 Team (90M)</td>\n",
       "      <td>Bronze</td>\n",
       "      <td>Czechoslovakia</td>\n",
       "    </tr>\n",
       "  </tbody>\n",
       "</table>\n",
       "<p>6367 rows × 11 columns</p>\n",
       "</div>"
      ],
      "text/plain": [
       "      Edition  Year         City   Sport        Discipline  \\\n",
       "132    Summer  1896       Athens  Tennis            Tennis   \n",
       "133    Summer  1896       Athens  Tennis            Tennis   \n",
       "134    Summer  1896       Athens  Tennis            Tennis   \n",
       "135    Summer  1896       Athens  Tennis            Tennis   \n",
       "136    Summer  1896       Athens  Tennis            Tennis   \n",
       "...       ...   ...          ...     ...               ...   \n",
       "33961  Winter  1992  Albertville  Skiing  Freestyle Skiing   \n",
       "33977  Winter  1992  Albertville  Skiing       Ski Jumping   \n",
       "33978  Winter  1992  Albertville  Skiing       Ski Jumping   \n",
       "33979  Winter  1992  Albertville  Skiing       Ski Jumping   \n",
       "33980  Winter  1992  Albertville  Skiing       Ski Jumping   \n",
       "\n",
       "                        Athlete Code Gender            Event   Medal  \\\n",
       "132                FLACK, Edwin  ZZX    Men          Doubles  Bronze   \n",
       "133    ROBERTSON, George Stuart  ZZX    Men          Doubles  Bronze   \n",
       "134                BOLAND, John  ZZX    Men          Doubles    Gold   \n",
       "135            TRAUN, Friedrich  ZZX    Men          Doubles    Gold   \n",
       "136        KASDAGLIS, Dionysios  ZZX    Men          Doubles  Silver   \n",
       "...                         ...  ...    ...              ...     ...   \n",
       "33961  KOZHEVNIKOVA, Yelizaveta  EUN  Women           Moguls  Silver   \n",
       "33977              GODER, Tomas  TCH    Men  K120 Team (90M)  Bronze   \n",
       "33978            JEZ, Frantisek  TCH    Men  K120 Team (90M)  Bronze   \n",
       "33979               PARMA, Jiri  TCH    Men  K120 Team (90M)  Bronze   \n",
       "33980          SAKALA, Jaroslav  TCH    Men  K120 Team (90M)  Bronze   \n",
       "\n",
       "              Country  \n",
       "132       Mixed teams  \n",
       "133       Mixed teams  \n",
       "134       Mixed teams  \n",
       "135       Mixed teams  \n",
       "136       Mixed teams  \n",
       "...               ...  \n",
       "33961    Unified Team  \n",
       "33977  Czechoslovakia  \n",
       "33978  Czechoslovakia  \n",
       "33979  Czechoslovakia  \n",
       "33980  Czechoslovakia  \n",
       "\n",
       "[6367 rows x 11 columns]"
      ]
     },
     "execution_count": 58,
     "metadata": {},
     "output_type": "execute_result"
    }
   ],
   "source": [
    "olympics.loc[missing_C_index]"
   ]
  },
  {
   "cell_type": "code",
   "execution_count": 59,
   "metadata": {},
   "outputs": [
    {
     "name": "stdout",
     "output_type": "stream",
     "text": [
      "<class 'pandas.core.frame.DataFrame'>\n",
      "RangeIndex: 36935 entries, 0 to 36934\n",
      "Data columns (total 11 columns):\n",
      " #   Column      Non-Null Count  Dtype \n",
      "---  ------      --------------  ----- \n",
      " 0   Edition     36935 non-null  object\n",
      " 1   Year        36935 non-null  int64 \n",
      " 2   City        36935 non-null  object\n",
      " 3   Sport       36935 non-null  object\n",
      " 4   Discipline  36935 non-null  object\n",
      " 5   Athlete     36935 non-null  object\n",
      " 6   Code        36931 non-null  object\n",
      " 7   Gender      36935 non-null  object\n",
      " 8   Event       36935 non-null  object\n",
      " 9   Medal       36935 non-null  object\n",
      " 10  Country     36931 non-null  object\n",
      "dtypes: int64(1), object(10)\n",
      "memory usage: 3.1+ MB\n"
     ]
    }
   ],
   "source": [
    "olympics.info()"
   ]
  },
  {
   "cell_type": "markdown",
   "metadata": {},
   "source": [
    "## Data Cleaning (Part 2)"
   ]
  },
  {
   "cell_type": "markdown",
   "metadata": {},
   "source": [
    "1. __Remove rows__ from olympics where the Country code is unknown. (Make sure you reset the Index -> RangeIndex)\n",
    "2. Convert the column __Medal__ into an __ordered Categorical__ column (\"Bronze\" < \"Silver\" < \"Gold\")"
   ]
  },
  {
   "cell_type": "code",
   "execution_count": null,
   "metadata": {},
   "outputs": [],
   "source": [
    "olympics.info()"
   ]
  },
  {
   "cell_type": "code",
   "execution_count": 60,
   "metadata": {},
   "outputs": [
    {
     "data": {
      "text/html": [
       "<div>\n",
       "<style scoped>\n",
       "    .dataframe tbody tr th:only-of-type {\n",
       "        vertical-align: middle;\n",
       "    }\n",
       "\n",
       "    .dataframe tbody tr th {\n",
       "        vertical-align: top;\n",
       "    }\n",
       "\n",
       "    .dataframe thead th {\n",
       "        text-align: right;\n",
       "    }\n",
       "</style>\n",
       "<table border=\"1\" class=\"dataframe\">\n",
       "  <thead>\n",
       "    <tr style=\"text-align: right;\">\n",
       "      <th></th>\n",
       "      <th>Edition</th>\n",
       "      <th>Year</th>\n",
       "      <th>City</th>\n",
       "      <th>Sport</th>\n",
       "      <th>Discipline</th>\n",
       "      <th>Athlete</th>\n",
       "      <th>Code</th>\n",
       "      <th>Gender</th>\n",
       "      <th>Event</th>\n",
       "      <th>Medal</th>\n",
       "      <th>Country</th>\n",
       "    </tr>\n",
       "  </thead>\n",
       "  <tbody>\n",
       "    <tr>\n",
       "      <th>29603</th>\n",
       "      <td>Summer</td>\n",
       "      <td>2012</td>\n",
       "      <td>London</td>\n",
       "      <td>Athletics</td>\n",
       "      <td>Athletics</td>\n",
       "      <td>Pending</td>\n",
       "      <td>NaN</td>\n",
       "      <td>Women</td>\n",
       "      <td>1500M</td>\n",
       "      <td>Gold</td>\n",
       "      <td>NaN</td>\n",
       "    </tr>\n",
       "    <tr>\n",
       "      <th>31072</th>\n",
       "      <td>Summer</td>\n",
       "      <td>2012</td>\n",
       "      <td>London</td>\n",
       "      <td>Weightlifting</td>\n",
       "      <td>Weightlifting</td>\n",
       "      <td>Pending</td>\n",
       "      <td>NaN</td>\n",
       "      <td>Women</td>\n",
       "      <td>63KG</td>\n",
       "      <td>Gold</td>\n",
       "      <td>NaN</td>\n",
       "    </tr>\n",
       "    <tr>\n",
       "      <th>31091</th>\n",
       "      <td>Summer</td>\n",
       "      <td>2012</td>\n",
       "      <td>London</td>\n",
       "      <td>Weightlifting</td>\n",
       "      <td>Weightlifting</td>\n",
       "      <td>Pending</td>\n",
       "      <td>NaN</td>\n",
       "      <td>Men</td>\n",
       "      <td>94KG</td>\n",
       "      <td>Silver</td>\n",
       "      <td>NaN</td>\n",
       "    </tr>\n",
       "    <tr>\n",
       "      <th>31110</th>\n",
       "      <td>Summer</td>\n",
       "      <td>2012</td>\n",
       "      <td>London</td>\n",
       "      <td>Wrestling</td>\n",
       "      <td>Wrestling Freestyle</td>\n",
       "      <td>KUDUKHOV, Besik</td>\n",
       "      <td>NaN</td>\n",
       "      <td>Men</td>\n",
       "      <td>Wf 60 KG</td>\n",
       "      <td>Silver</td>\n",
       "      <td>NaN</td>\n",
       "    </tr>\n",
       "  </tbody>\n",
       "</table>\n",
       "</div>"
      ],
      "text/plain": [
       "      Edition  Year    City          Sport           Discipline  \\\n",
       "29603  Summer  2012  London      Athletics            Athletics   \n",
       "31072  Summer  2012  London  Weightlifting        Weightlifting   \n",
       "31091  Summer  2012  London  Weightlifting        Weightlifting   \n",
       "31110  Summer  2012  London      Wrestling  Wrestling Freestyle   \n",
       "\n",
       "               Athlete Code Gender     Event   Medal Country  \n",
       "29603          Pending  NaN  Women     1500M    Gold     NaN  \n",
       "31072          Pending  NaN  Women      63KG    Gold     NaN  \n",
       "31091          Pending  NaN    Men      94KG  Silver     NaN  \n",
       "31110  KUDUKHOV, Besik  NaN    Men  Wf 60 KG  Silver     NaN  "
      ]
     },
     "execution_count": 60,
     "metadata": {},
     "output_type": "execute_result"
    }
   ],
   "source": [
    "olympics[olympics.Code.isna()]"
   ]
  },
  {
   "cell_type": "code",
   "execution_count": 61,
   "metadata": {},
   "outputs": [],
   "source": [
    "olympics.dropna(subset = [\"Code\"], inplace = True)"
   ]
  },
  {
   "cell_type": "code",
   "execution_count": 62,
   "metadata": {},
   "outputs": [
    {
     "name": "stdout",
     "output_type": "stream",
     "text": [
      "<class 'pandas.core.frame.DataFrame'>\n",
      "Int64Index: 36931 entries, 0 to 36934\n",
      "Data columns (total 11 columns):\n",
      " #   Column      Non-Null Count  Dtype \n",
      "---  ------      --------------  ----- \n",
      " 0   Edition     36931 non-null  object\n",
      " 1   Year        36931 non-null  int64 \n",
      " 2   City        36931 non-null  object\n",
      " 3   Sport       36931 non-null  object\n",
      " 4   Discipline  36931 non-null  object\n",
      " 5   Athlete     36931 non-null  object\n",
      " 6   Code        36931 non-null  object\n",
      " 7   Gender      36931 non-null  object\n",
      " 8   Event       36931 non-null  object\n",
      " 9   Medal       36931 non-null  object\n",
      " 10  Country     36931 non-null  object\n",
      "dtypes: int64(1), object(10)\n",
      "memory usage: 3.4+ MB\n"
     ]
    }
   ],
   "source": [
    "olympics.info()"
   ]
  },
  {
   "cell_type": "code",
   "execution_count": 63,
   "metadata": {},
   "outputs": [],
   "source": [
    "olympics.reset_index(drop = True, inplace = True)"
   ]
  },
  {
   "cell_type": "code",
   "execution_count": 64,
   "metadata": {},
   "outputs": [
    {
     "data": {
      "text/plain": [
       "Edition           2\n",
       "Year             33\n",
       "City             41\n",
       "Sport            48\n",
       "Discipline       80\n",
       "Athlete       26494\n",
       "Code            148\n",
       "Gender            2\n",
       "Event           733\n",
       "Medal             3\n",
       "Country         145\n",
       "dtype: int64"
      ]
     },
     "execution_count": 64,
     "metadata": {},
     "output_type": "execute_result"
    }
   ],
   "source": [
    "olympics.nunique()"
   ]
  },
  {
   "cell_type": "code",
   "execution_count": 65,
   "metadata": {},
   "outputs": [],
   "source": [
    "olympics.Medal = olympics.Medal.astype(\"category\")"
   ]
  },
  {
   "cell_type": "code",
   "execution_count": 66,
   "metadata": {},
   "outputs": [
    {
     "name": "stdout",
     "output_type": "stream",
     "text": [
      "<class 'pandas.core.frame.DataFrame'>\n",
      "RangeIndex: 36931 entries, 0 to 36930\n",
      "Data columns (total 11 columns):\n",
      " #   Column      Non-Null Count  Dtype   \n",
      "---  ------      --------------  -----   \n",
      " 0   Edition     36931 non-null  object  \n",
      " 1   Year        36931 non-null  int64   \n",
      " 2   City        36931 non-null  object  \n",
      " 3   Sport       36931 non-null  object  \n",
      " 4   Discipline  36931 non-null  object  \n",
      " 5   Athlete     36931 non-null  object  \n",
      " 6   Code        36931 non-null  object  \n",
      " 7   Gender      36931 non-null  object  \n",
      " 8   Event       36931 non-null  object  \n",
      " 9   Medal       36931 non-null  category\n",
      " 10  Country     36931 non-null  object  \n",
      "dtypes: category(1), int64(1), object(9)\n",
      "memory usage: 2.9+ MB\n"
     ]
    }
   ],
   "source": [
    "olympics.info()"
   ]
  },
  {
   "cell_type": "code",
   "execution_count": 67,
   "metadata": {},
   "outputs": [
    {
     "data": {
      "text/plain": [
       "36930    Bronze\n",
       "25565    Bronze\n",
       "25562    Bronze\n",
       "25559    Bronze\n",
       "11084    Bronze\n",
       "          ...  \n",
       "10811    Silver\n",
       "10810    Silver\n",
       "10809    Silver\n",
       "25834    Silver\n",
       "18465    Silver\n",
       "Name: Medal, Length: 36931, dtype: category\n",
       "Categories (3, object): ['Bronze', 'Gold', 'Silver']"
      ]
     },
     "execution_count": 67,
     "metadata": {},
     "output_type": "execute_result"
    }
   ],
   "source": [
    "olympics.Medal.sort_values()"
   ]
  },
  {
   "cell_type": "code",
   "execution_count": 68,
   "metadata": {},
   "outputs": [
    {
     "name": "stderr",
     "output_type": "stream",
     "text": [
      "/var/folders/cy/cxz48t697xzf0bp6v8yvv0tr0000gn/T/ipykernel_82958/1904861286.py:1: FutureWarning: The `inplace` parameter in pandas.Categorical.set_categories is deprecated and will be removed in a future version. Removing unused categories will always return a new Categorical object.\n",
      "  olympics.Medal.cat.set_categories([\"Bronze\", \"Silver\", \"Gold\"], ordered = True, inplace = True)\n"
     ]
    }
   ],
   "source": [
    "olympics.Medal.cat.set_categories([\"Bronze\", \"Silver\", \"Gold\"], ordered = True, inplace = True)"
   ]
  },
  {
   "cell_type": "code",
   "execution_count": 69,
   "metadata": {},
   "outputs": [
    {
     "data": {
      "text/plain": [
       "36930    Bronze\n",
       "8916     Bronze\n",
       "15339    Bronze\n",
       "27698    Bronze\n",
       "8919     Bronze\n",
       "          ...  \n",
       "25833      Gold\n",
       "10807      Gold\n",
       "10806      Gold\n",
       "10804      Gold\n",
       "0          Gold\n",
       "Name: Medal, Length: 36931, dtype: category\n",
       "Categories (3, object): ['Bronze' < 'Silver' < 'Gold']"
      ]
     },
     "execution_count": 69,
     "metadata": {},
     "output_type": "execute_result"
    }
   ],
   "source": [
    "olympics.Medal.sort_values()"
   ]
  },
  {
   "cell_type": "code",
   "execution_count": null,
   "metadata": {},
   "outputs": [],
   "source": []
  },
  {
   "cell_type": "markdown",
   "metadata": {},
   "source": [
    "## What are the most successful countries of all times?"
   ]
  },
  {
   "cell_type": "markdown",
   "metadata": {},
   "source": [
    "For the next questions, use Seaborn plots.\n",
    "1. What are the __Top 10__ Countries by __total medals__?\n",
    "2. __Split__ the total medals of Top 10 Countries into __Summer / Winter__. Are there typical Summer/Winter Games Countries? \n",
    "3. __Split__ the total medals of Top 10 Countries into __Gold, Silver, Bronze__. "
   ]
  },
  {
   "cell_type": "code",
   "execution_count": 70,
   "metadata": {},
   "outputs": [],
   "source": [
    "import matplotlib.pyplot as plt\n",
    "import seaborn as sns"
   ]
  },
  {
   "cell_type": "code",
   "execution_count": 71,
   "metadata": {},
   "outputs": [
    {
     "data": {
      "text/html": [
       "<div>\n",
       "<style scoped>\n",
       "    .dataframe tbody tr th:only-of-type {\n",
       "        vertical-align: middle;\n",
       "    }\n",
       "\n",
       "    .dataframe tbody tr th {\n",
       "        vertical-align: top;\n",
       "    }\n",
       "\n",
       "    .dataframe thead th {\n",
       "        text-align: right;\n",
       "    }\n",
       "</style>\n",
       "<table border=\"1\" class=\"dataframe\">\n",
       "  <thead>\n",
       "    <tr style=\"text-align: right;\">\n",
       "      <th></th>\n",
       "      <th>Edition</th>\n",
       "      <th>Year</th>\n",
       "      <th>City</th>\n",
       "      <th>Sport</th>\n",
       "      <th>Discipline</th>\n",
       "      <th>Athlete</th>\n",
       "      <th>Code</th>\n",
       "      <th>Gender</th>\n",
       "      <th>Event</th>\n",
       "      <th>Medal</th>\n",
       "      <th>Country</th>\n",
       "    </tr>\n",
       "  </thead>\n",
       "  <tbody>\n",
       "    <tr>\n",
       "      <th>0</th>\n",
       "      <td>Summer</td>\n",
       "      <td>1896</td>\n",
       "      <td>Athens</td>\n",
       "      <td>Aquatics</td>\n",
       "      <td>Swimming</td>\n",
       "      <td>HAJOS, Alfred</td>\n",
       "      <td>HUN</td>\n",
       "      <td>Men</td>\n",
       "      <td>100M Freestyle</td>\n",
       "      <td>Gold</td>\n",
       "      <td>Hungary</td>\n",
       "    </tr>\n",
       "    <tr>\n",
       "      <th>1</th>\n",
       "      <td>Summer</td>\n",
       "      <td>1896</td>\n",
       "      <td>Athens</td>\n",
       "      <td>Aquatics</td>\n",
       "      <td>Swimming</td>\n",
       "      <td>HERSCHMANN, Otto</td>\n",
       "      <td>AUT</td>\n",
       "      <td>Men</td>\n",
       "      <td>100M Freestyle</td>\n",
       "      <td>Silver</td>\n",
       "      <td>Austria</td>\n",
       "    </tr>\n",
       "    <tr>\n",
       "      <th>2</th>\n",
       "      <td>Summer</td>\n",
       "      <td>1896</td>\n",
       "      <td>Athens</td>\n",
       "      <td>Aquatics</td>\n",
       "      <td>Swimming</td>\n",
       "      <td>DRIVAS, Dimitrios</td>\n",
       "      <td>GRE</td>\n",
       "      <td>Men</td>\n",
       "      <td>100M Freestyle For Sailors</td>\n",
       "      <td>Bronze</td>\n",
       "      <td>Greece</td>\n",
       "    </tr>\n",
       "    <tr>\n",
       "      <th>3</th>\n",
       "      <td>Summer</td>\n",
       "      <td>1896</td>\n",
       "      <td>Athens</td>\n",
       "      <td>Aquatics</td>\n",
       "      <td>Swimming</td>\n",
       "      <td>MALOKINIS, Ioannis</td>\n",
       "      <td>GRE</td>\n",
       "      <td>Men</td>\n",
       "      <td>100M Freestyle For Sailors</td>\n",
       "      <td>Gold</td>\n",
       "      <td>Greece</td>\n",
       "    </tr>\n",
       "    <tr>\n",
       "      <th>4</th>\n",
       "      <td>Summer</td>\n",
       "      <td>1896</td>\n",
       "      <td>Athens</td>\n",
       "      <td>Aquatics</td>\n",
       "      <td>Swimming</td>\n",
       "      <td>CHASAPIS, Spiridon</td>\n",
       "      <td>GRE</td>\n",
       "      <td>Men</td>\n",
       "      <td>100M Freestyle For Sailors</td>\n",
       "      <td>Silver</td>\n",
       "      <td>Greece</td>\n",
       "    </tr>\n",
       "    <tr>\n",
       "      <th>...</th>\n",
       "      <td>...</td>\n",
       "      <td>...</td>\n",
       "      <td>...</td>\n",
       "      <td>...</td>\n",
       "      <td>...</td>\n",
       "      <td>...</td>\n",
       "      <td>...</td>\n",
       "      <td>...</td>\n",
       "      <td>...</td>\n",
       "      <td>...</td>\n",
       "      <td>...</td>\n",
       "    </tr>\n",
       "    <tr>\n",
       "      <th>36926</th>\n",
       "      <td>Winter</td>\n",
       "      <td>2014</td>\n",
       "      <td>Sochi</td>\n",
       "      <td>Skiing</td>\n",
       "      <td>Snowboard</td>\n",
       "      <td>JONES, Jenny</td>\n",
       "      <td>GBR</td>\n",
       "      <td>Women</td>\n",
       "      <td>Slopestyle</td>\n",
       "      <td>Bronze</td>\n",
       "      <td>United Kingdom</td>\n",
       "    </tr>\n",
       "    <tr>\n",
       "      <th>36927</th>\n",
       "      <td>Winter</td>\n",
       "      <td>2014</td>\n",
       "      <td>Sochi</td>\n",
       "      <td>Skiing</td>\n",
       "      <td>Snowboard</td>\n",
       "      <td>ANDERSON, Jamie</td>\n",
       "      <td>USA</td>\n",
       "      <td>Women</td>\n",
       "      <td>Slopestyle</td>\n",
       "      <td>Gold</td>\n",
       "      <td>United States</td>\n",
       "    </tr>\n",
       "    <tr>\n",
       "      <th>36928</th>\n",
       "      <td>Winter</td>\n",
       "      <td>2014</td>\n",
       "      <td>Sochi</td>\n",
       "      <td>Skiing</td>\n",
       "      <td>Snowboard</td>\n",
       "      <td>MALTAIS, Dominique</td>\n",
       "      <td>CAN</td>\n",
       "      <td>Women</td>\n",
       "      <td>Snowboard Cross</td>\n",
       "      <td>Silver</td>\n",
       "      <td>Canada</td>\n",
       "    </tr>\n",
       "    <tr>\n",
       "      <th>36929</th>\n",
       "      <td>Winter</td>\n",
       "      <td>2014</td>\n",
       "      <td>Sochi</td>\n",
       "      <td>Skiing</td>\n",
       "      <td>Snowboard</td>\n",
       "      <td>SAMKOVA, Eva</td>\n",
       "      <td>CZE</td>\n",
       "      <td>Women</td>\n",
       "      <td>Snowboard Cross</td>\n",
       "      <td>Gold</td>\n",
       "      <td>Czech Republic</td>\n",
       "    </tr>\n",
       "    <tr>\n",
       "      <th>36930</th>\n",
       "      <td>Winter</td>\n",
       "      <td>2014</td>\n",
       "      <td>Sochi</td>\n",
       "      <td>Skiing</td>\n",
       "      <td>Snowboard</td>\n",
       "      <td>TRESPEUCH, Chloe</td>\n",
       "      <td>FRA</td>\n",
       "      <td>Women</td>\n",
       "      <td>Snowboard Cross</td>\n",
       "      <td>Bronze</td>\n",
       "      <td>France</td>\n",
       "    </tr>\n",
       "  </tbody>\n",
       "</table>\n",
       "<p>36931 rows × 11 columns</p>\n",
       "</div>"
      ],
      "text/plain": [
       "      Edition  Year    City     Sport Discipline             Athlete Code  \\\n",
       "0      Summer  1896  Athens  Aquatics   Swimming       HAJOS, Alfred  HUN   \n",
       "1      Summer  1896  Athens  Aquatics   Swimming    HERSCHMANN, Otto  AUT   \n",
       "2      Summer  1896  Athens  Aquatics   Swimming   DRIVAS, Dimitrios  GRE   \n",
       "3      Summer  1896  Athens  Aquatics   Swimming  MALOKINIS, Ioannis  GRE   \n",
       "4      Summer  1896  Athens  Aquatics   Swimming  CHASAPIS, Spiridon  GRE   \n",
       "...       ...   ...     ...       ...        ...                 ...  ...   \n",
       "36926  Winter  2014   Sochi    Skiing  Snowboard        JONES, Jenny  GBR   \n",
       "36927  Winter  2014   Sochi    Skiing  Snowboard     ANDERSON, Jamie  USA   \n",
       "36928  Winter  2014   Sochi    Skiing  Snowboard  MALTAIS, Dominique  CAN   \n",
       "36929  Winter  2014   Sochi    Skiing  Snowboard        SAMKOVA, Eva  CZE   \n",
       "36930  Winter  2014   Sochi    Skiing  Snowboard    TRESPEUCH, Chloe  FRA   \n",
       "\n",
       "      Gender                       Event   Medal         Country  \n",
       "0        Men              100M Freestyle    Gold         Hungary  \n",
       "1        Men              100M Freestyle  Silver         Austria  \n",
       "2        Men  100M Freestyle For Sailors  Bronze          Greece  \n",
       "3        Men  100M Freestyle For Sailors    Gold          Greece  \n",
       "4        Men  100M Freestyle For Sailors  Silver          Greece  \n",
       "...      ...                         ...     ...             ...  \n",
       "36926  Women                  Slopestyle  Bronze  United Kingdom  \n",
       "36927  Women                  Slopestyle    Gold   United States  \n",
       "36928  Women             Snowboard Cross  Silver          Canada  \n",
       "36929  Women             Snowboard Cross    Gold  Czech Republic  \n",
       "36930  Women             Snowboard Cross  Bronze          France  \n",
       "\n",
       "[36931 rows x 11 columns]"
      ]
     },
     "execution_count": 71,
     "metadata": {},
     "output_type": "execute_result"
    }
   ],
   "source": [
    "olympics"
   ]
  },
  {
   "cell_type": "code",
   "execution_count": 72,
   "metadata": {},
   "outputs": [
    {
     "data": {
      "text/plain": [
       "United States            5238\n",
       "Soviet Union             2489\n",
       "United Kingdom           1799\n",
       "Germany                  1665\n",
       "France                   1548\n",
       "                         ... \n",
       "Virgin Islands*             1\n",
       "Guyana                      1\n",
       "Netherlands Antilles*       1\n",
       "Iraq                        1\n",
       "Bermuda*                    1\n",
       "Name: Country, Length: 145, dtype: int64"
      ]
     },
     "execution_count": 72,
     "metadata": {},
     "output_type": "execute_result"
    }
   ],
   "source": [
    "olympics.Country.value_counts()"
   ]
  },
  {
   "cell_type": "code",
   "execution_count": 73,
   "metadata": {},
   "outputs": [
    {
     "data": {
      "text/plain": [
       "United States     5238\n",
       "Soviet Union      2489\n",
       "United Kingdom    1799\n",
       "Germany           1665\n",
       "France            1548\n",
       "Italy             1488\n",
       "Sweden            1477\n",
       "Canada            1274\n",
       "Australia         1204\n",
       "Hungary           1091\n",
       "Name: Country, dtype: int64"
      ]
     },
     "execution_count": 73,
     "metadata": {},
     "output_type": "execute_result"
    }
   ],
   "source": [
    "top_10 = olympics.Country.value_counts().head(10)\n",
    "top_10"
   ]
  },
  {
   "cell_type": "code",
   "execution_count": 74,
   "metadata": {},
   "outputs": [
    {
     "data": {
      "image/png": "[encoded data removed]",
      "text/plain": [
       "<Figure size 1200x800 with 1 Axes>"
      ]
     },
     "metadata": {},
     "output_type": "display_data"
    }
   ],
   "source": [
    "top_10.plot(kind = \"bar\", fontsize = 15, figsize=(12,8))\n",
    "plt.title(\"Top 10 Countries by Medals\", fontsize = 15)\n",
    "plt.ylabel(\"Medals\", fontsize = 14)\n",
    "plt.show()"
   ]
  },
  {
   "cell_type": "code",
   "execution_count": 75,
   "metadata": {},
   "outputs": [
    {
     "data": {
      "text/html": [
       "<div>\n",
       "<style scoped>\n",
       "    .dataframe tbody tr th:only-of-type {\n",
       "        vertical-align: middle;\n",
       "    }\n",
       "\n",
       "    .dataframe tbody tr th {\n",
       "        vertical-align: top;\n",
       "    }\n",
       "\n",
       "    .dataframe thead th {\n",
       "        text-align: right;\n",
       "    }\n",
       "</style>\n",
       "<table border=\"1\" class=\"dataframe\">\n",
       "  <thead>\n",
       "    <tr style=\"text-align: right;\">\n",
       "      <th></th>\n",
       "      <th>Edition</th>\n",
       "      <th>Year</th>\n",
       "      <th>City</th>\n",
       "      <th>Sport</th>\n",
       "      <th>Discipline</th>\n",
       "      <th>Athlete</th>\n",
       "      <th>Code</th>\n",
       "      <th>Gender</th>\n",
       "      <th>Event</th>\n",
       "      <th>Medal</th>\n",
       "      <th>Country</th>\n",
       "    </tr>\n",
       "  </thead>\n",
       "  <tbody>\n",
       "    <tr>\n",
       "      <th>0</th>\n",
       "      <td>Summer</td>\n",
       "      <td>1896</td>\n",
       "      <td>Athens</td>\n",
       "      <td>Aquatics</td>\n",
       "      <td>Swimming</td>\n",
       "      <td>HAJOS, Alfred</td>\n",
       "      <td>HUN</td>\n",
       "      <td>Men</td>\n",
       "      <td>100M Freestyle</td>\n",
       "      <td>Gold</td>\n",
       "      <td>Hungary</td>\n",
       "    </tr>\n",
       "    <tr>\n",
       "      <th>6</th>\n",
       "      <td>Summer</td>\n",
       "      <td>1896</td>\n",
       "      <td>Athens</td>\n",
       "      <td>Aquatics</td>\n",
       "      <td>Swimming</td>\n",
       "      <td>HAJOS, Alfred</td>\n",
       "      <td>HUN</td>\n",
       "      <td>Men</td>\n",
       "      <td>1200M Freestyle</td>\n",
       "      <td>Gold</td>\n",
       "      <td>Hungary</td>\n",
       "    </tr>\n",
       "    <tr>\n",
       "      <th>11</th>\n",
       "      <td>Summer</td>\n",
       "      <td>1896</td>\n",
       "      <td>Athens</td>\n",
       "      <td>Athletics</td>\n",
       "      <td>Athletics</td>\n",
       "      <td>LANE, Francis</td>\n",
       "      <td>USA</td>\n",
       "      <td>Men</td>\n",
       "      <td>100M</td>\n",
       "      <td>Bronze</td>\n",
       "      <td>United States</td>\n",
       "    </tr>\n",
       "    <tr>\n",
       "      <th>12</th>\n",
       "      <td>Summer</td>\n",
       "      <td>1896</td>\n",
       "      <td>Athens</td>\n",
       "      <td>Athletics</td>\n",
       "      <td>Athletics</td>\n",
       "      <td>SZOKOLYI, Alajos</td>\n",
       "      <td>HUN</td>\n",
       "      <td>Men</td>\n",
       "      <td>100M</td>\n",
       "      <td>Bronze</td>\n",
       "      <td>Hungary</td>\n",
       "    </tr>\n",
       "    <tr>\n",
       "      <th>13</th>\n",
       "      <td>Summer</td>\n",
       "      <td>1896</td>\n",
       "      <td>Athens</td>\n",
       "      <td>Athletics</td>\n",
       "      <td>Athletics</td>\n",
       "      <td>BURKE, Thomas</td>\n",
       "      <td>USA</td>\n",
       "      <td>Men</td>\n",
       "      <td>100M</td>\n",
       "      <td>Gold</td>\n",
       "      <td>United States</td>\n",
       "    </tr>\n",
       "    <tr>\n",
       "      <th>...</th>\n",
       "      <td>...</td>\n",
       "      <td>...</td>\n",
       "      <td>...</td>\n",
       "      <td>...</td>\n",
       "      <td>...</td>\n",
       "      <td>...</td>\n",
       "      <td>...</td>\n",
       "      <td>...</td>\n",
       "      <td>...</td>\n",
       "      <td>...</td>\n",
       "      <td>...</td>\n",
       "    </tr>\n",
       "    <tr>\n",
       "      <th>36924</th>\n",
       "      <td>Winter</td>\n",
       "      <td>2014</td>\n",
       "      <td>Sochi</td>\n",
       "      <td>Skiing</td>\n",
       "      <td>Snowboard</td>\n",
       "      <td>KOBER, Amelie</td>\n",
       "      <td>GER</td>\n",
       "      <td>Women</td>\n",
       "      <td>Parallel Slalom</td>\n",
       "      <td>Bronze</td>\n",
       "      <td>Germany</td>\n",
       "    </tr>\n",
       "    <tr>\n",
       "      <th>36926</th>\n",
       "      <td>Winter</td>\n",
       "      <td>2014</td>\n",
       "      <td>Sochi</td>\n",
       "      <td>Skiing</td>\n",
       "      <td>Snowboard</td>\n",
       "      <td>JONES, Jenny</td>\n",
       "      <td>GBR</td>\n",
       "      <td>Women</td>\n",
       "      <td>Slopestyle</td>\n",
       "      <td>Bronze</td>\n",
       "      <td>United Kingdom</td>\n",
       "    </tr>\n",
       "    <tr>\n",
       "      <th>36927</th>\n",
       "      <td>Winter</td>\n",
       "      <td>2014</td>\n",
       "      <td>Sochi</td>\n",
       "      <td>Skiing</td>\n",
       "      <td>Snowboard</td>\n",
       "      <td>ANDERSON, Jamie</td>\n",
       "      <td>USA</td>\n",
       "      <td>Women</td>\n",
       "      <td>Slopestyle</td>\n",
       "      <td>Gold</td>\n",
       "      <td>United States</td>\n",
       "    </tr>\n",
       "    <tr>\n",
       "      <th>36928</th>\n",
       "      <td>Winter</td>\n",
       "      <td>2014</td>\n",
       "      <td>Sochi</td>\n",
       "      <td>Skiing</td>\n",
       "      <td>Snowboard</td>\n",
       "      <td>MALTAIS, Dominique</td>\n",
       "      <td>CAN</td>\n",
       "      <td>Women</td>\n",
       "      <td>Snowboard Cross</td>\n",
       "      <td>Silver</td>\n",
       "      <td>Canada</td>\n",
       "    </tr>\n",
       "    <tr>\n",
       "      <th>36930</th>\n",
       "      <td>Winter</td>\n",
       "      <td>2014</td>\n",
       "      <td>Sochi</td>\n",
       "      <td>Skiing</td>\n",
       "      <td>Snowboard</td>\n",
       "      <td>TRESPEUCH, Chloe</td>\n",
       "      <td>FRA</td>\n",
       "      <td>Women</td>\n",
       "      <td>Snowboard Cross</td>\n",
       "      <td>Bronze</td>\n",
       "      <td>France</td>\n",
       "    </tr>\n",
       "  </tbody>\n",
       "</table>\n",
       "<p>19273 rows × 11 columns</p>\n",
       "</div>"
      ],
      "text/plain": [
       "      Edition  Year    City      Sport Discipline             Athlete Code  \\\n",
       "0      Summer  1896  Athens   Aquatics   Swimming       HAJOS, Alfred  HUN   \n",
       "6      Summer  1896  Athens   Aquatics   Swimming       HAJOS, Alfred  HUN   \n",
       "11     Summer  1896  Athens  Athletics  Athletics       LANE, Francis  USA   \n",
       "12     Summer  1896  Athens  Athletics  Athletics    SZOKOLYI, Alajos  HUN   \n",
       "13     Summer  1896  Athens  Athletics  Athletics       BURKE, Thomas  USA   \n",
       "...       ...   ...     ...        ...        ...                 ...  ...   \n",
       "36924  Winter  2014   Sochi     Skiing  Snowboard       KOBER, Amelie  GER   \n",
       "36926  Winter  2014   Sochi     Skiing  Snowboard        JONES, Jenny  GBR   \n",
       "36927  Winter  2014   Sochi     Skiing  Snowboard     ANDERSON, Jamie  USA   \n",
       "36928  Winter  2014   Sochi     Skiing  Snowboard  MALTAIS, Dominique  CAN   \n",
       "36930  Winter  2014   Sochi     Skiing  Snowboard    TRESPEUCH, Chloe  FRA   \n",
       "\n",
       "      Gender            Event   Medal         Country  \n",
       "0        Men   100M Freestyle    Gold         Hungary  \n",
       "6        Men  1200M Freestyle    Gold         Hungary  \n",
       "11       Men             100M  Bronze   United States  \n",
       "12       Men             100M  Bronze         Hungary  \n",
       "13       Men             100M    Gold   United States  \n",
       "...      ...              ...     ...             ...  \n",
       "36924  Women  Parallel Slalom  Bronze         Germany  \n",
       "36926  Women       Slopestyle  Bronze  United Kingdom  \n",
       "36927  Women       Slopestyle    Gold   United States  \n",
       "36928  Women  Snowboard Cross  Silver          Canada  \n",
       "36930  Women  Snowboard Cross  Bronze          France  \n",
       "\n",
       "[19273 rows x 11 columns]"
      ]
     },
     "execution_count": 75,
     "metadata": {},
     "output_type": "execute_result"
    }
   ],
   "source": [
    "olympics_10 = olympics[olympics.Country.isin(top_10.index)]\n",
    "olympics_10"
   ]
  },
  {
   "cell_type": "code",
   "execution_count": 81,
   "metadata": {},
   "outputs": [
    {
     "data": {
      "image/png": "[encoded data removed]",
      "text/plain": [
       "<Figure size 2000x1000 with 1 Axes>"
      ]
     },
     "metadata": {},
     "output_type": "display_data"
    }
   ],
   "source": [
    "plt.figure(figsize=(20,10))\n",
    "sns.set(font_scale=1.5, palette= \"dark\")\n",
    "sns.countplot(data = olympics_10, x = \"Country\", order=top_10.index)\n",
    "plt.title(\"Top 10 Countries by Medals\", fontsize = 20)\n",
    "plt.show()"
   ]
  },
  {
   "cell_type": "code",
   "execution_count": 82,
   "metadata": {},
   "outputs": [
    {
     "data": {
      "image/png": "[encoded data removed]",
      "text/plain": [
       "<Figure size 2000x1000 with 1 Axes>"
      ]
     },
     "metadata": {},
     "output_type": "display_data"
    }
   ],
   "source": [
    "plt.figure(figsize=(20,10))\n",
    "sns.set(font_scale=1.5, palette= \"dark\")\n",
    "sns.countplot(data = olympics_10, x = \"Country\", hue = \"Edition\", order = top_10.index)\n",
    "plt.title(\"Top 10 Countries by Medals\", fontsize = 20)\n",
    "plt.show()"
   ]
  },
  {
   "cell_type": "code",
   "execution_count": 83,
   "metadata": {},
   "outputs": [
    {
     "data": {
      "image/png": "[encoded data removed]",
      "text/plain": [
       "<Figure size 2000x1000 with 1 Axes>"
      ]
     },
     "metadata": {},
     "output_type": "display_data"
    }
   ],
   "source": [
    "plt.figure(figsize=(20,10))\n",
    "sns.set(font_scale=1.5, palette= \"dark\")\n",
    "sns.countplot(data = olympics_10, x = \"Edition\", hue = \"Country\", hue_order = top_10.index)\n",
    "plt.title(\"Top 10 Countries by Medals\", fontsize = 20)\n",
    "plt.show()"
   ]
  },
  {
   "cell_type": "code",
   "execution_count": 84,
   "metadata": {
    "scrolled": false
   },
   "outputs": [
    {
     "data": {
      "image/png": "[encoded data removed]",
      "text/plain": [
       "<Figure size 2000x1000 with 1 Axes>"
      ]
     },
     "metadata": {},
     "output_type": "display_data"
    }
   ],
   "source": [
    "plt.figure(figsize=(20,10))\n",
    "sns.set(font_scale=1.5, palette= \"dark\")\n",
    "sns.countplot(data = olympics_10, x = \"Country\", hue = \"Medal\", order = top_10.index,\n",
    "              hue_order = [\"Gold\", \"Silver\", \"Bronze\"], palette = [\"gold\", \"silver\", \"brown\"])\n",
    "plt.title(\"Top 10 Countries by Medals\", fontsize = 20)\n",
    "plt.show()"
   ]
  },
  {
   "cell_type": "code",
   "execution_count": 85,
   "metadata": {
    "scrolled": false
   },
   "outputs": [
    {
     "data": {
      "image/png": "[encoded data removed]",
      "text/plain": [
       "<Figure size 2000x1000 with 1 Axes>"
      ]
     },
     "metadata": {},
     "output_type": "display_data"
    }
   ],
   "source": [
    "plt.figure(figsize=(20,10))\n",
    "sns.set(font_scale=1.5, palette= \"dark\")\n",
    "sns.countplot(data = olympics_10, x = \"Medal\", hue = \"Country\", \n",
    "              order = [\"Gold\", \"Silver\", \"Bronze\"], hue_order= top_10.index)\n",
    "plt.title(\"Top 10 Countries by Medals\", fontsize = 20)\n",
    "plt.show()"
   ]
  },
  {
   "cell_type": "code",
   "execution_count": null,
   "metadata": {},
   "outputs": [],
   "source": []
  },
  {
   "cell_type": "markdown",
   "metadata": {},
   "source": [
    "## Do GDP, Population and Politics matter?"
   ]
  },
  {
   "cell_type": "markdown",
   "metadata": {},
   "source": [
    "1. Create the following __aggregated and merged__ DataFrame with __Top 50 Countries__ (you can see an excerpt with the first 12 Countries). The Column __Total_Games__ shows the __number of Participations__ (as an approximation: determine the number of Editions where Countries have won at least one medal)."
   ]
  },
  {
   "attachments": {
    "image.png": {
     "image/png": "[encoded data removed]"
    }
   },
   "cell_type": "markdown",
   "metadata": {},
   "source": [
    "![image.png](attachment:image.png)"
   ]
  },
  {
   "cell_type": "markdown",
   "metadata": {},
   "source": [
    "2. __Convert__ the __absolute values__ in the DataFrame into __ranks__ and save the ranks DataFrame in new variable (see screenshot). Ranks are more meaningful than absolute numbers."
   ]
  },
  {
   "attachments": {
    "image.png": {
     "image/png": "[encoded data removed]"
    }
   },
   "cell_type": "markdown",
   "metadata": {},
   "source": [
    "![image.png](attachment:image.png)"
   ]
  },
  {
   "cell_type": "code",
   "execution_count": null,
   "metadata": {
    "scrolled": true
   },
   "outputs": [],
   "source": [
    "olympics"
   ]
  },
  {
   "cell_type": "code",
   "execution_count": null,
   "metadata": {},
   "outputs": [],
   "source": [
    "medals_per_country = pd.crosstab(index = olympics.Country, columns = olympics.Medal, \n",
    "                                 margins = True, margins_name= \"Total\")\n",
    "medals_per_country"
   ]
  },
  {
   "cell_type": "code",
   "execution_count": null,
   "metadata": {},
   "outputs": [],
   "source": [
    "medals_per_country.drop(\"Total\", axis = 0, inplace = True)"
   ]
  },
  {
   "cell_type": "code",
   "execution_count": null,
   "metadata": {},
   "outputs": [],
   "source": [
    "medals_per_country"
   ]
  },
  {
   "cell_type": "code",
   "execution_count": null,
   "metadata": {},
   "outputs": [],
   "source": [
    "medals_per_country = medals_per_country[[\"Total\", \"Gold\", \"Silver\", \"Bronze\"]].sort_values(by = [\"Total\", \"Gold\", \"Silver\", \"Bronze\"], ascending = False)"
   ]
  },
  {
   "cell_type": "code",
   "execution_count": null,
   "metadata": {},
   "outputs": [],
   "source": [
    "medals_per_country.head(50)"
   ]
  },
  {
   "cell_type": "code",
   "execution_count": null,
   "metadata": {},
   "outputs": [],
   "source": [
    "dic"
   ]
  },
  {
   "cell_type": "code",
   "execution_count": null,
   "metadata": {},
   "outputs": [],
   "source": [
    "medals_per_country = medals_per_country.merge(dic, how = \"left\", left_index = True, \n",
    "                                              right_on = \"Country\").drop(columns = [\"Code\"]).set_index(\"Country\")"
   ]
  },
  {
   "cell_type": "code",
   "execution_count": null,
   "metadata": {},
   "outputs": [],
   "source": [
    "medals_per_country"
   ]
  },
  {
   "cell_type": "code",
   "execution_count": null,
   "metadata": {},
   "outputs": [],
   "source": [
    "olympics.nunique()"
   ]
  },
  {
   "cell_type": "code",
   "execution_count": null,
   "metadata": {},
   "outputs": [],
   "source": [
    "olympics[\"Games\"] = olympics.apply(lambda x: str(x.Year) + \" \" + x.City, axis = 1)"
   ]
  },
  {
   "cell_type": "code",
   "execution_count": null,
   "metadata": {},
   "outputs": [],
   "source": [
    "olympics"
   ]
  },
  {
   "cell_type": "code",
   "execution_count": null,
   "metadata": {},
   "outputs": [],
   "source": [
    "olympics.Games.nunique()"
   ]
  },
  {
   "cell_type": "code",
   "execution_count": null,
   "metadata": {},
   "outputs": [],
   "source": [
    "olympics.Games.value_counts()"
   ]
  },
  {
   "cell_type": "code",
   "execution_count": null,
   "metadata": {},
   "outputs": [],
   "source": [
    "olympics.groupby(\"Country\").apply(lambda x: x.Games.nunique())"
   ]
  },
  {
   "cell_type": "code",
   "execution_count": null,
   "metadata": {},
   "outputs": [],
   "source": [
    "medals_per_country[\"Total_Games\"] = olympics.groupby(\"Country\").apply(lambda x: x.Games.nunique())"
   ]
  },
  {
   "cell_type": "code",
   "execution_count": null,
   "metadata": {},
   "outputs": [],
   "source": [
    "medals_per_country.head(50)"
   ]
  },
  {
   "cell_type": "code",
   "execution_count": null,
   "metadata": {},
   "outputs": [],
   "source": [
    "medals_per_country.rank(ascending = False).head(50)"
   ]
  },
  {
   "cell_type": "code",
   "execution_count": null,
   "metadata": {},
   "outputs": [],
   "source": []
  },
  {
   "cell_type": "markdown",
   "metadata": {},
   "source": [
    "## Statistical Analysis and Hypothesis Testing with scipy"
   ]
  },
  {
   "cell_type": "markdown",
   "metadata": {},
   "source": [
    "In the follwing work with __Ranks__!\n",
    "Check whether __GDP__ (Standard of Living), __Total_Games__ (Political Stability measure) and __Population__ (Size) have an effect on __Total Medals__. (hint: work with spearman correlation, not with pearson correlation)"
   ]
  },
  {
   "cell_type": "code",
   "execution_count": null,
   "metadata": {},
   "outputs": [],
   "source": [
    "medals_per_country"
   ]
  },
  {
   "cell_type": "code",
   "execution_count": null,
   "metadata": {},
   "outputs": [],
   "source": [
    "medals_per_country.drop(columns = [\"Gold\", \"Silver\", \"Bronze\"], inplace = True)"
   ]
  },
  {
   "cell_type": "code",
   "execution_count": null,
   "metadata": {},
   "outputs": [],
   "source": [
    "medals_per_country.corr(method = \"pearson\")"
   ]
  },
  {
   "cell_type": "code",
   "execution_count": null,
   "metadata": {},
   "outputs": [],
   "source": [
    "medals_per_country.corr(method = \"spearman\")"
   ]
  },
  {
   "cell_type": "code",
   "execution_count": null,
   "metadata": {},
   "outputs": [],
   "source": [
    "medals_per_country.rank(ascending = False).corr(method = \"pearson\")"
   ]
  },
  {
   "cell_type": "code",
   "execution_count": null,
   "metadata": {},
   "outputs": [],
   "source": [
    "import scipy.stats as stats"
   ]
  },
  {
   "cell_type": "markdown",
   "metadata": {},
   "source": [
    "------------------------"
   ]
  },
  {
   "cell_type": "markdown",
   "metadata": {},
   "source": [
    "__Hypothesis 1: There is no relationship between Total Medals and Population__"
   ]
  },
  {
   "cell_type": "code",
   "execution_count": null,
   "metadata": {},
   "outputs": [],
   "source": [
    "stats.spearmanr(medals_per_country.Total, medals_per_country.Population, \n",
    "                             nan_policy = \"omit\")"
   ]
  },
  {
   "cell_type": "code",
   "execution_count": null,
   "metadata": {},
   "outputs": [],
   "source": [
    "r, p_value = stats.spearmanr(medals_per_country.Total, medals_per_country.Population, \n",
    "                             nan_policy = \"omit\")"
   ]
  },
  {
   "cell_type": "code",
   "execution_count": null,
   "metadata": {},
   "outputs": [],
   "source": [
    "r"
   ]
  },
  {
   "cell_type": "code",
   "execution_count": null,
   "metadata": {},
   "outputs": [],
   "source": [
    "round(p_value)"
   ]
  },
  {
   "cell_type": "markdown",
   "metadata": {},
   "source": [
    "__Reject Hypothesis 1 -> There is a significant (positive) relationship between Total Medals and Population__"
   ]
  },
  {
   "cell_type": "markdown",
   "metadata": {},
   "source": [
    "--------------------------------"
   ]
  },
  {
   "cell_type": "markdown",
   "metadata": {},
   "source": [
    "__Hypothesis 2: There is no relationship between Total Medals and GDP per Capita__"
   ]
  },
  {
   "cell_type": "code",
   "execution_count": null,
   "metadata": {},
   "outputs": [],
   "source": [
    "r, p_value = stats.spearmanr(medals_per_country.Total, medals_per_country.GDP,\n",
    "                             nan_policy = \"omit\")"
   ]
  },
  {
   "cell_type": "code",
   "execution_count": null,
   "metadata": {},
   "outputs": [],
   "source": [
    "r"
   ]
  },
  {
   "cell_type": "code",
   "execution_count": null,
   "metadata": {},
   "outputs": [],
   "source": [
    "p_value"
   ]
  },
  {
   "cell_type": "markdown",
   "metadata": {},
   "source": [
    "__Reject Hypothesis 2 -> There is a significant (positive) relationship between Total Medals and GDP per Capita__"
   ]
  },
  {
   "cell_type": "markdown",
   "metadata": {},
   "source": [
    "----------------------"
   ]
  },
  {
   "cell_type": "markdown",
   "metadata": {},
   "source": [
    "__Hypothesis 3: There is no relationship between Total Medals and Participations__"
   ]
  },
  {
   "cell_type": "code",
   "execution_count": null,
   "metadata": {},
   "outputs": [],
   "source": [
    "medals_per_country.head(50)"
   ]
  },
  {
   "cell_type": "code",
   "execution_count": null,
   "metadata": {},
   "outputs": [],
   "source": [
    "r, p_value = stats.spearmanr(medals_per_country.head(50).Total, \n",
    "                             medals_per_country.head(50).Total_Games)"
   ]
  },
  {
   "cell_type": "code",
   "execution_count": null,
   "metadata": {},
   "outputs": [],
   "source": [
    "r"
   ]
  },
  {
   "cell_type": "code",
   "execution_count": null,
   "metadata": {},
   "outputs": [],
   "source": [
    "p_value"
   ]
  },
  {
   "cell_type": "markdown",
   "metadata": {},
   "source": [
    "__Reject Hypothesis 3 -> There is a significant (positive) relationship between Total Medals and Participations__"
   ]
  },
  {
   "cell_type": "code",
   "execution_count": null,
   "metadata": {},
   "outputs": [],
   "source": []
  },
  {
   "cell_type": "markdown",
   "metadata": {},
   "source": [
    "## Aggregating and Ranking"
   ]
  },
  {
   "cell_type": "markdown",
   "metadata": {},
   "source": [
    "Create the following __Seaborn Heatmap__ with __Medal Ranks__ for Top 50 Countries (Total Medals, Summer Games Medals, Winter Games Medals, Men, Women)."
   ]
  },
  {
   "attachments": {
    "image.png": {
     "image/png": "[encoded data removed]"
    }
   },
   "cell_type": "markdown",
   "metadata": {},
   "source": [
    "![image.png](attachment:image.png)"
   ]
  },
  {
   "cell_type": "code",
   "execution_count": null,
   "metadata": {},
   "outputs": [],
   "source": [
    "olympics"
   ]
  },
  {
   "cell_type": "code",
   "execution_count": null,
   "metadata": {},
   "outputs": [],
   "source": [
    "sum_vs_win = pd.crosstab(olympics.Country, olympics.Edition)"
   ]
  },
  {
   "cell_type": "code",
   "execution_count": null,
   "metadata": {},
   "outputs": [],
   "source": [
    "sum_vs_win"
   ]
  },
  {
   "cell_type": "code",
   "execution_count": null,
   "metadata": {},
   "outputs": [],
   "source": [
    "men_vs_women =  pd.crosstab(olympics.Country, olympics.Gender)\n",
    "men_vs_women"
   ]
  },
  {
   "cell_type": "code",
   "execution_count": null,
   "metadata": {},
   "outputs": [],
   "source": [
    "medals_by_cats = pd.concat([sum_vs_win, men_vs_women], axis = 1)\n",
    "medals_by_cats "
   ]
  },
  {
   "cell_type": "code",
   "execution_count": null,
   "metadata": {},
   "outputs": [],
   "source": [
    "medals_by_cats[\"Total\"] = medals_by_cats.Summer + medals_by_cats.Winter"
   ]
  },
  {
   "cell_type": "code",
   "execution_count": null,
   "metadata": {},
   "outputs": [],
   "source": [
    "medals_by_cats"
   ]
  },
  {
   "cell_type": "code",
   "execution_count": null,
   "metadata": {},
   "outputs": [],
   "source": [
    "medals_by_cats.sort_values(\"Total\", ascending = False, inplace = True)"
   ]
  },
  {
   "cell_type": "code",
   "execution_count": null,
   "metadata": {},
   "outputs": [],
   "source": [
    "medals_by_cats"
   ]
  },
  {
   "cell_type": "code",
   "execution_count": null,
   "metadata": {},
   "outputs": [],
   "source": [
    "ranks = medals_by_cats.rank(ascending = False, method = \"average\")\n",
    "ranks"
   ]
  },
  {
   "cell_type": "code",
   "execution_count": null,
   "metadata": {},
   "outputs": [],
   "source": [
    "top_50 = ranks.head(50)"
   ]
  },
  {
   "cell_type": "code",
   "execution_count": null,
   "metadata": {},
   "outputs": [],
   "source": [
    "plt.figure(figsize = (50, 10))\n",
    "sns.heatmap(top_50.T,cmap='RdYlGn_r',annot=True,fmt='2.0f')\n",
    "plt.show()"
   ]
  },
  {
   "cell_type": "code",
   "execution_count": null,
   "metadata": {},
   "outputs": [],
   "source": []
  },
  {
   "cell_type": "markdown",
   "metadata": {},
   "source": [
    "## Summer Games vs. Winter Games - does Geographical Location matter?"
   ]
  },
  {
   "cell_type": "markdown",
   "metadata": {},
   "source": [
    "__Identify Countries__ that are \n",
    "1. __equally successful__ in Summer and Winter Games\n",
    "2. more successful in __Summer Games__\n",
    "3. more successful in __Winter Games__\n",
    "\n",
    "\n",
    "What could be the reasons?"
   ]
  },
  {
   "cell_type": "code",
   "execution_count": 86,
   "metadata": {},
   "outputs": [
    {
     "ename": "NameError",
     "evalue": "name 'top_50' is not defined",
     "output_type": "error",
     "traceback": [
      "\u001b[0;31m---------------------------------------------------------------------------\u001b[0m",
      "\u001b[0;31mNameError\u001b[0m                                 Traceback (most recent call last)",
      "Cell \u001b[0;32mIn [86], line 1\u001b[0m\n\u001b[0;32m----> 1\u001b[0m \u001b[43mtop_50\u001b[49m\u001b[38;5;241m.\u001b[39msort_values(\u001b[38;5;124m\"\u001b[39m\u001b[38;5;124mSummer\u001b[39m\u001b[38;5;124m\"\u001b[39m)\n",
      "\u001b[0;31mNameError\u001b[0m: name 'top_50' is not defined"
     ]
    }
   ],
   "source": [
    "top_50.sort_values(\"Summer\")"
   ]
  },
  {
   "cell_type": "code",
   "execution_count": null,
   "metadata": {},
   "outputs": [],
   "source": [
    "top_50.sort_values(\"Winter\")"
   ]
  },
  {
   "cell_type": "code",
   "execution_count": null,
   "metadata": {},
   "outputs": [],
   "source": [
    "plt.figure(figsize = (50, 10))\n",
    "sns.heatmap(top_50.sort_values(by = \"Summer\").T,cmap='RdYlGn_r',annot=True,fmt='2.0f')\n",
    "plt.show()"
   ]
  },
  {
   "cell_type": "code",
   "execution_count": null,
   "metadata": {},
   "outputs": [],
   "source": [
    "plt.figure(figsize = (50, 10))\n",
    "sns.heatmap(top_50.sort_values(by = \"Winter\").T,cmap='RdYlGn_r',annot=True,fmt='2.0f')\n",
    "plt.show()"
   ]
  },
  {
   "cell_type": "code",
   "execution_count": null,
   "metadata": {},
   "outputs": [],
   "source": [
    "top_50.Summer.sub(top_50.Winter).sort_values()"
   ]
  },
  {
   "cell_type": "code",
   "execution_count": null,
   "metadata": {},
   "outputs": [],
   "source": [
    "rank_diff = top_50.Summer.sub(top_50.Winter).sort_values().to_frame()\n",
    "rank_diff"
   ]
  },
  {
   "cell_type": "code",
   "execution_count": null,
   "metadata": {
    "scrolled": true
   },
   "outputs": [],
   "source": [
    "plt.figure(figsize = (35, 5))\n",
    "sns.heatmap(rank_diff.T,cmap='RdBu',annot=True,fmt='2.0f', center = 0)\n",
    "plt.show()"
   ]
  },
  {
   "cell_type": "code",
   "execution_count": null,
   "metadata": {},
   "outputs": [],
   "source": []
  },
  {
   "cell_type": "markdown",
   "metadata": {},
   "source": [
    "## Men vs. Women - does Culture & Religion matter?"
   ]
  },
  {
   "cell_type": "markdown",
   "metadata": {},
   "source": [
    "__Identify Countries__ where\n",
    "1. Men and Women are __equally successful__\n",
    "2. __Men__ are more successful\n",
    "3. __Women__ are more successful\n",
    "\n",
    "What could be the reasons?"
   ]
  },
  {
   "cell_type": "code",
   "execution_count": null,
   "metadata": {},
   "outputs": [],
   "source": [
    "plt.figure(figsize = (50, 10))\n",
    "sns.heatmap(top_50.sort_values(by = \"Men\").T,cmap='RdYlGn_r',annot=True,fmt='2.0f')\n",
    "plt.show()"
   ]
  },
  {
   "cell_type": "code",
   "execution_count": null,
   "metadata": {},
   "outputs": [],
   "source": [
    "plt.figure(figsize = (50, 10))\n",
    "sns.heatmap(top_50.sort_values(by = \"Women\").T,cmap='RdYlGn_r',annot=True,fmt='2.0f')\n",
    "plt.show()"
   ]
  },
  {
   "cell_type": "code",
   "execution_count": null,
   "metadata": {},
   "outputs": [],
   "source": [
    "rank_diff2 = top_50.Men.sub(top_50.Women).sort_values().to_frame()\n",
    "rank_diff2"
   ]
  },
  {
   "cell_type": "code",
   "execution_count": null,
   "metadata": {
    "scrolled": false
   },
   "outputs": [],
   "source": [
    "plt.figure(figsize = (35, 5))\n",
    "sns.heatmap(rank_diff2.T,cmap='RdBu_r',annot=True,fmt='2.0f', center = 0)\n",
    "plt.show()"
   ]
  },
  {
   "cell_type": "code",
   "execution_count": null,
   "metadata": {},
   "outputs": [],
   "source": []
  },
  {
   "cell_type": "markdown",
   "metadata": {},
   "source": [
    "## Do Traditions matter?"
   ]
  },
  {
   "cell_type": "markdown",
   "metadata": {},
   "source": [
    "Create the following __Seaborn Heatmap__ that shows the __Ranks__ of Top 50 Countries __by Sports__. <br>\n",
    "Identify traditional Sports / National Sports for e.g. UK and China!"
   ]
  },
  {
   "attachments": {
    "image.png": {
     "image/png": "[encoded data removed]"
    }
   },
   "cell_type": "markdown",
   "metadata": {},
   "source": [
    "![image.png](attachment:image.png)"
   ]
  },
  {
   "cell_type": "code",
   "execution_count": null,
   "metadata": {},
   "outputs": [],
   "source": [
    "olympics"
   ]
  },
  {
   "cell_type": "code",
   "execution_count": null,
   "metadata": {},
   "outputs": [],
   "source": [
    "olympics.Sport.value_counts()"
   ]
  },
  {
   "cell_type": "code",
   "execution_count": null,
   "metadata": {},
   "outputs": [],
   "source": [
    "sports = olympics.Sport.value_counts().index\n",
    "sports"
   ]
  },
  {
   "cell_type": "code",
   "execution_count": null,
   "metadata": {},
   "outputs": [],
   "source": [
    "olympics.Country.value_counts().head(20)"
   ]
  },
  {
   "cell_type": "code",
   "execution_count": null,
   "metadata": {},
   "outputs": [],
   "source": [
    "top_20 = olympics.Country.value_counts().head(20).index\n",
    "top_20"
   ]
  },
  {
   "cell_type": "code",
   "execution_count": null,
   "metadata": {},
   "outputs": [],
   "source": [
    "by_sport = pd.crosstab(olympics.Country, olympics.Sport)\n",
    "by_sport"
   ]
  },
  {
   "cell_type": "code",
   "execution_count": null,
   "metadata": {},
   "outputs": [],
   "source": [
    "by_sport = by_sport.rank(ascending = False, method = \"average\")\n",
    "by_sport"
   ]
  },
  {
   "cell_type": "code",
   "execution_count": null,
   "metadata": {},
   "outputs": [],
   "source": [
    "by_sport = by_sport.loc[top_20, sports].copy()\n",
    "by_sport"
   ]
  },
  {
   "cell_type": "code",
   "execution_count": null,
   "metadata": {},
   "outputs": [],
   "source": [
    "plt.figure(figsize = (30, 10))\n",
    "sns.heatmap(by_sport,cmap='RdYlGn_r', vmin = 1, vmax = 6, linewidth = 1)\n",
    "plt.show()"
   ]
  },
  {
   "cell_type": "code",
   "execution_count": null,
   "metadata": {},
   "outputs": [],
   "source": []
  },
  {
   "cell_type": "code",
   "execution_count": null,
   "metadata": {},
   "outputs": [],
   "source": []
  },
  {
   "cell_type": "code",
   "execution_count": null,
   "metadata": {},
   "outputs": [],
   "source": []
  },
  {
   "cell_type": "code",
   "execution_count": null,
   "metadata": {},
   "outputs": [],
   "source": []
  },
  {
   "cell_type": "markdown",
   "metadata": {},
   "source": [
    "# Missing full Country Names (see Data Cleaning Part 1)"
   ]
  },
  {
   "cell_type": "code",
   "execution_count": 87,
   "metadata": {},
   "outputs": [
    {
     "data": {
      "text/plain": [
       "{'URS': 'Soviet Union',\n",
       " 'GDR': 'East Germany',\n",
       " 'ROU': 'Romania',\n",
       " 'FRG': 'West Germany',\n",
       " 'TCH': 'Czechoslovakia',\n",
       " 'YUG': 'Yugoslavia',\n",
       " 'EUN': 'Unified Team',\n",
       " 'EUA': 'Unified Team of Germany',\n",
       " 'ZZX': 'Mixed teams',\n",
       " 'SRB': 'Serbia',\n",
       " 'ANZ': 'Australasia',\n",
       " 'RU1': 'Russian Empire',\n",
       " 'MNE': 'Montenegro',\n",
       " 'TTO': 'Trinidad and Tobago',\n",
       " 'BOH': 'Bohemia',\n",
       " 'BWI': 'West Indies Federation',\n",
       " 'SGP': 'Singapore',\n",
       " 'IOP': 'Independent Olympic Participants'}"
      ]
     },
     "execution_count": 87,
     "metadata": {},
     "output_type": "execute_result"
    }
   ],
   "source": [
    "{'URS': 'Soviet Union',\n",
    " 'GDR': 'East Germany',\n",
    " 'ROU': 'Romania',\n",
    " 'FRG': 'West Germany',\n",
    " 'TCH': 'Czechoslovakia',\n",
    " 'YUG': 'Yugoslavia',\n",
    " 'EUN': 'Unified Team',\n",
    " 'EUA': 'Unified Team of Germany',\n",
    " 'ZZX': 'Mixed teams',\n",
    " 'SRB': 'Serbia',\n",
    " 'ANZ': 'Australasia',\n",
    " 'RU1': 'Russian Empire',\n",
    " 'MNE': 'Montenegro',\n",
    " 'TTO': 'Trinidad and Tobago',\n",
    " 'BOH': 'Bohemia',\n",
    " 'BWI': 'West Indies Federation',\n",
    " 'SGP': 'Singapore',\n",
    " 'IOP': 'Independent Olympic Participants'}"
   ]
  },
  {
   "cell_type": "code",
   "execution_count": 89,
   "metadata": {},
   "outputs": [
    {
     "data": {
      "text/plain": [
       "4"
      ]
     },
     "execution_count": 89,
     "metadata": {},
     "output_type": "execute_result"
    }
   ],
   "source": [
    "int(9/2)"
   ]
  },
  {
   "cell_type": "code",
   "execution_count": null,
   "metadata": {},
   "outputs": [],
   "source": []
  }
 ],
 "metadata": {
  "kernelspec": {
   "display_name": "Python 3 (ipykernel)",
   "language": "python",
   "name": "python3"
  },
  "language_info": {
   "codemirror_mode": {
    "name": "ipython",
    "version": 3
   },
   "file_extension": ".py",
   "mimetype": "text/x-python",
   "name": "python",
   "nbconvert_exporter": "python",
   "pygments_lexer": "ipython3",
   "version": "3.10.7"
  }
 },
 "nbformat": 4,
 "nbformat_minor": 4
}
